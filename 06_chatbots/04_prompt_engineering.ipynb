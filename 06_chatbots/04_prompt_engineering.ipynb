{
 "cells": [
  {
   "cell_type": "markdown",
   "id": "5fb1cd17-f320-4f59-a0e7-28fd1acd59c8",
   "metadata": {},
   "source": [
    "# Prompt Engineering\n",
    "\n",
    "In this notebook we learn how prompts can be designed to carefully modify the output format. \n",
    "The more precisely we formulate the desired output, the closer this output will be to our expectation.\n",
    "The act of making the prompt more precise can be coined \"prompt engineering\"."
   ]
  },
  {
   "cell_type": "code",
   "execution_count": 1,
   "id": "bab41321-7139-480d-884d-79eeb8362f08",
   "metadata": {},
   "outputs": [],
   "source": [
    "from openai import OpenAI\n",
    "\n",
    "from IPython.core.magic import register_line_cell_magic\n",
    "from IPython.display import display, Markdown"
   ]
  },
  {
   "cell_type": "markdown",
   "id": "c5a5737e-44af-4317-a18a-f40710f921b0",
   "metadata": {},
   "source": [
    "We define a helper function and jupyter magic so that we can easily prompt further down in the notebook."
   ]
  },
  {
   "cell_type": "code",
   "execution_count": 2,
   "id": "c5648952-d131-447b-9573-223041af49b5",
   "metadata": {},
   "outputs": [],
   "source": [
    "@register_line_cell_magic\n",
    "def prompt(line:str, cell:str, model=\"gpt-3.5-turbo\"):\n",
    "    \"\"\"A prompt helper function that sends a message to openAI\n",
    "    and prints out the text response.\n",
    "    \"\"\"\n",
    "    message = line + \"\\n\" + cell\n",
    "    client = OpenAI()\n",
    "    response = client.chat.completions.create(\n",
    "        model=model,\n",
    "        messages=[{\"role\": \"user\", \"content\": message}]\n",
    "    )\n",
    "    text = response.choices[0].message.content\n",
    "    display(Markdown(text))"
   ]
  },
  {
   "cell_type": "markdown",
   "id": "cf47989d-d12f-4530-8e88-38c06113cbef",
   "metadata": {},
   "source": [
    "First let's ask for a simple task."
   ]
  },
  {
   "cell_type": "code",
   "execution_count": 3,
   "id": "7691d5af-803e-4b35-b76f-d54542674a72",
   "metadata": {},
   "outputs": [
    {
     "data": {
      "text/markdown": [
       "Here are some important hints to consider while writing your thesis:\n",
       "\n",
       "1. Evaluate your readiness: Before submitting the thesis registration form, carefully assess your commitment and availability. Ensure that you are confident in completing your thesis within the given timeframe of five months. This will prevent unnecessary stress and help you maintain a focused mindset throughout the writing process.\n",
       "\n",
       "2. Begin early: Starting your thesis early is crucial. Begin by working on the fundamentals chapter, as it lays the foundation for your entire thesis. By initiating this chapter from day one, you will establish a good writing routine and make steady progress as you move forward.\n",
       "\n",
       "3. Plan ahead: Create a realistic schedule to guide your writing process. Break down the work into smaller tasks, setting deadlines for each chapter or section. This will help you maintain a structured approach and make the workload more manageable. Be sure to allocate time for research, data analysis, and revisions.\n",
       "\n",
       "4. Aim to finish ahead of time: Plan to complete your thesis writing at least one month before the official deadline. This buffer time will allow you to thoroughly review and revise your work before final submission. It will also provide an opportunity to seek feedback from professors or peers, improving the overall quality of your thesis.\n",
       "\n",
       "5. Seek feedback and revision: Take advantage of the additional time you have allocated for feedback and revisions. Share your work with your thesis advisor or committee members, and ask for their input and suggestions. Revise your thesis accordingly, ensuring that your arguments are clear, logical, and well-supported by evidence.\n",
       "\n",
       "6. Don't procrastinate: Avoid the temptation to procrastinate. Procrastination can lead to unnecessary stress and compromises the quality of your work. By starting early and adhering to your schedule, you will have ample time to address any challenges that may arise during the writing process.\n",
       "\n",
       "7. Stay organized: Maintain good organization throughout your thesis writing journey. Keep track of your research materials, notes, and references. Use a citation manager or referencing software to manage your sources efficiently. Well-organized work will save time when it comes to citing and referencing, reducing the chances of errors or plagiarism.\n",
       "\n",
       "8. Take breaks and rest: Remember to take regular breaks and prioritize self-care. Writing a thesis can be mentally and emotionally draining, so it's important to maintain a healthy balance. Schedule breaks, exercise, and allocate time for activities that help you relax and recharge. This will improve your overall productivity and well-being.\n",
       "\n",
       "Remember, completing your thesis is a significant achievement, and following these hints will ensure a smoother and more successful writing experience. Good luck with your thesis!"
      ],
      "text/plain": [
       "<IPython.core.display.Markdown object>"
      ]
     },
     "metadata": {},
     "output_type": "display_data"
    }
   ],
   "source": [
    "%%prompt\n",
    "You are a professional academic consultant who gives advice to students for writing their thesis.\n",
    "\n",
    "\n",
    "\n",
    "Give these hints:\n",
    "* Submit the thesis registration form only if you're sure you can finish writing in 5 months.\n",
    "* Start writing your thesis early, e.g. the fundamentals chapter can be written from day one.\n",
    "* Plan to finish writing a month before the deadline to give time to read it and provide feedback."
   ]
  },
  {
   "cell_type": "markdown",
   "id": "9c3f6835-6730-4c31-938f-6665f8b7b0ed",
   "metadata": {},
   "source": [
    "The output is very long and thus, an obvious modification of the output could be to \"keep it short\"."
   ]
  },
  {
   "cell_type": "code",
   "execution_count": 4,
   "id": "a4a5ff4c-4392-4b20-904d-f54b36550e8e",
   "metadata": {},
   "outputs": [
    {
     "data": {
      "text/markdown": [
       "As a professional academic consultant, here are some helpful hints for writing your thesis:\n",
       "\n",
       "1. Only submit the thesis registration form if you are confident about completing it within the given timeframe of 5 months.\n",
       "\n",
       "2. Begin writing your thesis early to ensure a smooth process. For instance, you can start with the fundamentals chapter right from day one.\n",
       "\n",
       "3. Plan your schedule effectively to finish writing your thesis at least a month before the submission deadline. This will allow ample time for reading, revising, and receiving feedback.\n",
       "\n",
       "By following these recommendations, you'll have a better chance of successfully completing your thesis on time and with improved quality. Good luck!"
      ],
      "text/plain": [
       "<IPython.core.display.Markdown object>"
      ]
     },
     "metadata": {},
     "output_type": "display_data"
    }
   ],
   "source": [
    "%%prompt\n",
    "You are a professional academic consultant who gives advice to students for writing their thesis.\n",
    "Keep it short.\n",
    "\n",
    "\n",
    "Give these hints:\n",
    "* Submit the thesis registration form only if you're sure you can finish writing in 5 months.\n",
    "* Start writing your thesis early, e.g. the fundamentals chapter can be written from day one.\n",
    "* Plan to finish writing a month before the deadline to give time to read it and provide feedback."
   ]
  },
  {
   "cell_type": "markdown",
   "id": "5eb1ffcd-7401-4711-ac64-6ccf60994a37",
   "metadata": {},
   "source": [
    "It is also straightforward to ask for output in different languages."
   ]
  },
  {
   "cell_type": "code",
   "execution_count": 5,
   "id": "c6dc6451-29a6-4bb3-bdd5-7bc957ae0b4c",
   "metadata": {},
   "outputs": [
    {
     "data": {
      "text/markdown": [
       "Als akademischer Berater rate ich Ihnen:\n",
       "* Schicken Sie das Anmeldeformular für Ihre Abschlussarbeit nur dann ab, wenn Sie sicher sind, dass Sie innerhalb von 5 Monaten fertig schreiben können.\n",
       "* Beginnen Sie frühzeitig mit dem Schreiben Ihrer Thesis, zum Beispiel kann das Kapitel über die Grundlagen von Anfang an geschrieben werden.\n",
       "* Planen Sie, einen Monat vor der Abgabefrist mit dem Schreiben fertig zu sein, um genügend Zeit zum Korrekturlesen und Feedbackgeben zu haben."
      ],
      "text/plain": [
       "<IPython.core.display.Markdown object>"
      ]
     },
     "metadata": {},
     "output_type": "display_data"
    }
   ],
   "source": [
    "%%prompt\n",
    "You are a professional academic consultant who gives advice to students for writing their thesis.\n",
    "Keep it short.\n",
    "Povide advice in German.\n",
    "\n",
    "Give these hints:\n",
    "* Submit the thesis registration form only if you're sure you can finish writing in 5 months.\n",
    "* Start writing your thesis early, e.g. the fundamentals chapter can be written from day one.\n",
    "* Plan to finish writing a month before the deadline to give time to read it and provide feedback."
   ]
  },
  {
   "cell_type": "markdown",
   "id": "a708b72d-7a73-4055-aabf-44ca8a95442f",
   "metadata": {},
   "source": [
    "\"Also output style specification possible is.\", Yoda said."
   ]
  },
  {
   "cell_type": "code",
   "execution_count": 6,
   "id": "b4a523df-7711-4a34-b55e-dfcb9c3590a7",
   "metadata": {},
   "outputs": [
    {
     "data": {
      "text/markdown": [
       "Hints for thesis writing, I have. Follow them, you must.\n",
       "\n",
       "* Only submit the thesis registration form, if in 5 months, complete writing, you are sure.\n",
       "* From day one, start writing your thesis, you must. Begin with the fundamentals chapter.\n",
       "* A month before the deadline, finish writing, you should. Time to read and provide feedback, it will give you.\n",
       "\n",
       "Follow these hints, you must. Successful thesis writing, you will achieve. Hmmmm."
      ],
      "text/plain": [
       "<IPython.core.display.Markdown object>"
      ]
     },
     "metadata": {},
     "output_type": "display_data"
    }
   ],
   "source": [
    "%%prompt\n",
    "You are a professional academic consultant who gives advice to students for writing their thesis.\n",
    "Keep it short.\n",
    "Write like Yoda would.\n",
    "\n",
    "Give these hints:\n",
    "* Submit the thesis registration form only if you're sure you can finish writing in 5 months.\n",
    "* Start writing your thesis early, e.g. the fundamentals chapter can be written from day one.\n",
    "* Plan to finish writing a month before the deadline to give time to read it and provide feedback."
   ]
  },
  {
   "cell_type": "markdown",
   "id": "89b983bd-ba9c-4d12-95e0-9cc7e3e75f78",
   "metadata": {},
   "source": [
    "If technialities are explained by chatGPT, a common prompt is to explain the context as \"I'm a 5 year old.\""
   ]
  },
  {
   "cell_type": "code",
   "execution_count": 8,
   "id": "fc15487c-431c-4339-8fd7-8cffebbeb81a",
   "metadata": {},
   "outputs": [
    {
     "data": {
      "text/markdown": [
       "Hallo! Wenn du eine Abschlussarbeit schreiben möchtest, habe ich ein paar Tipps für dich!\n",
       "\n",
       "1. Stelle sicher, dass du nur das Anmeldeformular für die Abschlussarbeit abgibst, wenn du sicher bist, dass du in 5 Monaten fertig sein kannst. Es dauert eine Weile, bis man eine Abschlussarbeit schreibt, und du willst genug Zeit haben, um sie gut zu machen!\n",
       "\n",
       "2. Fang früh an mit dem Schreiben deiner Abschlussarbeit. Du kannst zum Beispiel schon von Tag eins an mit dem Kapitel über die Grundlagen beginnen. So hast du mehr Zeit für den Rest der Arbeit.\n",
       "\n",
       "3. Plane, dass du einen Monat vor dem Abgabetermin fertig mit dem Schreiben bist. Dann hast du genug Zeit, um die Arbeit nochmal zu lesen und Feedback zu bekommen. Das ist wichtig, um sie noch besser zu machen.\n",
       "\n",
       "Ich hoffe, diese Tipps helfen dir weiter! Viel Erfolg bei deiner Abschlussarbeit!"
      ],
      "text/plain": [
       "<IPython.core.display.Markdown object>"
      ]
     },
     "metadata": {},
     "output_type": "display_data"
    }
   ],
   "source": [
    "%%prompt\n",
    "You are a professional academic consultant who gives advice to students for writing their thesis.\n",
    "Keep it short.\n",
    "Povide advice in German.\n",
    "Explain it like I'm 5 year old.\n",
    "Give these hints:\n",
    "* Submit the thesis registration form only if you're sure you can finish writing in 5 months.\n",
    "* Start writing your thesis early, e.g. the fundamentals chapter can be written from day one.\n",
    "* Plan to finish writing a month before the deadline to give time to read it and provide feedback."
   ]
  },
  {
   "cell_type": "markdown",
   "id": "79cc2c19-536a-43a3-9233-23b02d77c0aa",
   "metadata": {},
   "source": [
    "## Exercise\n",
    "Receive the advice in different languages. Also consider languages such as Klingon."
   ]
  },
  {
   "cell_type": "code",
   "execution_count": null,
   "id": "d79a98bf-56e0-43de-b3e8-d5ab1ca4b883",
   "metadata": {},
   "outputs": [],
   "source": []
  }
 ],
 "metadata": {
  "kernelspec": {
   "display_name": "Python 3 (ipykernel)",
   "language": "python",
   "name": "python3"
  },
  "language_info": {
   "codemirror_mode": {
    "name": "ipython",
    "version": 3
   },
   "file_extension": ".py",
   "mimetype": "text/x-python",
   "name": "python",
   "nbconvert_exporter": "python",
   "pygments_lexer": "ipython3",
   "version": "3.11.9"
  }
 },
 "nbformat": 4,
 "nbformat_minor": 5
}
