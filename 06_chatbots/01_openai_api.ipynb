{
 "cells": [
  {
   "cell_type": "markdown",
   "id": "9e9c0e47-748c-44f7-a428-ab945196dafd",
   "metadata": {},
   "source": [
    "# OpenAI Application Programming Interface\n",
    "The OpenAI API became a de-facto standard to communicate with LLMs programmatically. The Python interface is [open source](https://github.com/openai/openai-python).\n",
    "\n",
    "As the field is moving fast an APIs break sometimes, consider printing out the version of the library you used."
   ]
  },
  {
   "cell_type": "code",
   "execution_count": 1,
   "id": "82642255-0256-4296-9f7c-b931a174ad5b",
   "metadata": {
    "tags": []
   },
   "outputs": [
    {
     "data": {
      "text/plain": [
       "'1.5.0'"
      ]
     },
     "execution_count": 1,
     "metadata": {},
     "output_type": "execute_result"
    }
   ],
   "source": [
    "import os\n",
    "import openai\n",
    "openai.__version__"
   ]
  },
  {
   "cell_type": "markdown",
   "id": "078253e4-5530-4c42-baa4-417ff0ff60d8",
   "metadata": {},
   "source": [
    "For accessing LLMs you create a client object first."
   ]
  },
  {
   "cell_type": "code",
   "execution_count": 2,
   "id": "33273854-c67c-4994-97fc-183bc6228b51",
   "metadata": {
    "tags": []
   },
   "outputs": [
    {
     "data": {
      "text/plain": [
       "<openai.OpenAI at 0x264e939cc50>"
      ]
     },
     "execution_count": 2,
     "metadata": {},
     "output_type": "execute_result"
    }
   ],
   "source": [
    "client = openai.OpenAI()\n",
    "client"
   ]
  },
  {
   "cell_type": "markdown",
   "id": "2c4fd3d9-fadd-40b6-b669-102e2e527115",
   "metadata": {},
   "source": [
    "Once this client is set, you can configure it."
   ]
  },
  {
   "cell_type": "code",
   "execution_count": 3,
   "id": "cc4b13b6-8602-4efa-920c-a20ff586faed",
   "metadata": {
    "tags": []
   },
   "outputs": [],
   "source": [
    "# todo: enter your API key here:\n",
    "# client.api_key = \"\"\n",
    "client.api_key = os.environ.get('OPENAI_API_KEY')"
   ]
  },
  {
   "cell_type": "markdown",
   "id": "84b11eec-1a13-4286-8ae1-a94a04a2281d",
   "metadata": {},
   "source": [
    "If you are using a different endpoint, you can specify it here:"
   ]
  },
  {
   "cell_type": "code",
   "execution_count": 4,
   "id": "c9e17aa8-40bd-4ad7-be43-9f5d87d9ca8e",
   "metadata": {
    "tags": []
   },
   "outputs": [],
   "source": [
    "client.base_url = \"http://localhost:11434/v1\" # ollama is running on my local machine\n",
    "# comment out the line above if you want to use OpenAI's ChatGPT"
   ]
  },
  {
   "cell_type": "markdown",
   "id": "3646fb61-d525-4501-bb38-d5226816b7b0",
   "metadata": {},
   "source": [
    "The API expects messages in a certain format:"
   ]
  },
  {
   "cell_type": "code",
   "execution_count": 5,
   "id": "e2b589e4-bd53-4334-b1c9-869fb56af07a",
   "metadata": {
    "tags": []
   },
   "outputs": [
    {
     "data": {
      "text/plain": [
       "[{'role': 'user', 'content': \"What's the capital of France?\"}]"
      ]
     },
     "execution_count": 5,
     "metadata": {},
     "output_type": "execute_result"
    }
   ],
   "source": [
    "my_messages = []\n",
    "\n",
    "my_messages.append({\n",
    "    \"role\": \"user\", \n",
    "    \"content\": \"What's the capital of France?\"\n",
    "})\n",
    "my_messages"
   ]
  },
  {
   "cell_type": "markdown",
   "id": "9cf12d91-e107-4d37-9804-89ae9f9748af",
   "metadata": {},
   "source": [
    "You can send a request to the server using the `chat.completions` API. If you're planning to use ChatGPT, possible OpenAI models and their prices can be found [here](https://openai.com/api/pricing)."
   ]
  },
  {
   "cell_type": "code",
   "execution_count": 6,
   "id": "0b1086f0-812d-4c38-a4bb-8ecc7d823568",
   "metadata": {
    "tags": []
   },
   "outputs": [
    {
     "data": {
      "text/plain": [
       "ChatCompletion(id='chatcmpl-2', choices=[Choice(finish_reason='stop', index=0, logprobs=None, message=ChatCompletionMessage(content=\"The capital city of France is Paris. It's a major cultural and political center in the country, serving as a symbol of French history and culture.\", role='assistant', function_call=None, tool_calls=None))], created=1715009825, model='gemma:2b', object='chat.completion', system_fingerprint='fp_ollama', usage=CompletionUsage(completion_tokens=32, prompt_tokens=0, total_tokens=32))"
      ]
     },
     "execution_count": 6,
     "metadata": {},
     "output_type": "execute_result"
    }
   ],
   "source": [
    "response = client.chat.completions.create(\n",
    "        model=\"gemma:2b\", # or: gpt-3.5-turbo\n",
    "        messages=my_messages\n",
    "    )\n",
    "response"
   ]
  },
  {
   "cell_type": "markdown",
   "id": "279633a8-e694-4209-9d89-934d1ebc0785",
   "metadata": {
    "tags": []
   },
   "source": [
    "The answer comes in a similar format like the request was sent. It is a list of answers actually."
   ]
  },
  {
   "cell_type": "code",
   "execution_count": 7,
   "id": "be100506-9450-4d82-bedd-f88621f80ca2",
   "metadata": {
    "tags": []
   },
   "outputs": [
    {
     "data": {
      "text/plain": [
       "[Choice(finish_reason='stop', index=0, logprobs=None, message=ChatCompletionMessage(content=\"The capital city of France is Paris. It's a major cultural and political center in the country, serving as a symbol of French history and culture.\", role='assistant', function_call=None, tool_calls=None))]"
      ]
     },
     "execution_count": 7,
     "metadata": {},
     "output_type": "execute_result"
    }
   ],
   "source": [
    "response.choices"
   ]
  },
  {
   "cell_type": "markdown",
   "id": "3234b00c-763a-4c62-817c-d62759781d19",
   "metadata": {
    "tags": []
   },
   "source": [
    "You can access the text-answer like this:"
   ]
  },
  {
   "cell_type": "code",
   "execution_count": 8,
   "id": "e2bc576c-4db0-4770-82e9-d131523dc52a",
   "metadata": {
    "tags": []
   },
   "outputs": [
    {
     "data": {
      "text/plain": [
       "\"The capital city of France is Paris. It's a major cultural and political center in the country, serving as a symbol of French history and culture.\""
      ]
     },
     "execution_count": 8,
     "metadata": {},
     "output_type": "execute_result"
    }
   ],
   "source": [
    "response.choices[0].message.content"
   ]
  }
 ],
 "metadata": {
  "kernelspec": {
   "display_name": "Python 3 (ipykernel)",
   "language": "python",
   "name": "python3"
  },
  "language_info": {
   "codemirror_mode": {
    "name": "ipython",
    "version": 3
   },
   "file_extension": ".py",
   "mimetype": "text/x-python",
   "name": "python",
   "nbconvert_exporter": "python",
   "pygments_lexer": "ipython3",
   "version": "3.11.9"
  }
 },
 "nbformat": 4,
 "nbformat_minor": 5
}
