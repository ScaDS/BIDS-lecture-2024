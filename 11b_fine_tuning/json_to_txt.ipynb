{
 "cells": [
  {
   "cell_type": "markdown",
   "id": "1ca2f11b-508c-4a43-abe5-19c9c1579247",
   "metadata": {},
   "source": [
    "# Converting Q&A JSONL files into text files\n",
    "This notebook shows how to convert jsonl files into human-readable text files. \n",
    "This just serves for completenes."
   ]
  },
  {
   "cell_type": "code",
   "execution_count": 1,
   "id": "7de0a479-cb0b-43c5-9ef0-c31da3f4384c",
   "metadata": {},
   "outputs": [],
   "source": [
    "from fine_tuning_utilities import save_jsonl_file, load_jsonl_file"
   ]
  },
  {
   "cell_type": "code",
   "execution_count": 2,
   "id": "e62a9b9c-cc07-402e-982c-8f2dc1f68752",
   "metadata": {},
   "outputs": [
    {
     "data": {
      "text/plain": [
       "130"
      ]
     },
     "execution_count": 2,
     "metadata": {},
     "output_type": "execute_result"
    }
   ],
   "source": [
    "qa = load_jsonl_file(\"questions_answers.jsonl\")\n",
    "len(qa)"
   ]
  },
  {
   "cell_type": "code",
   "execution_count": 3,
   "id": "2c0a86d0-7e8a-4fa2-a855-588a5baf27a8",
   "metadata": {},
   "outputs": [],
   "source": [
    "with open('qa.txt', 'w') as file:\n",
    "    # Write each item on a new line\n",
    "    for item in qa:\n",
    "        q = item['question']\n",
    "        a = item['answer']\n",
    "        file.write(f\"\"\"\n",
    "Question: \n",
    "{q}\n",
    "\n",
    "Answer: \n",
    "{a}\n",
    "\n",
    "\"\"\"\n",
    ")"
   ]
  }
 ],
 "metadata": {
  "kernelspec": {
   "display_name": "Python 3 (ipykernel)",
   "language": "python",
   "name": "python3"
  },
  "language_info": {
   "codemirror_mode": {
    "name": "ipython",
    "version": 3
   },
   "file_extension": ".py",
   "mimetype": "text/x-python",
   "name": "python",
   "nbconvert_exporter": "python",
   "pygments_lexer": "ipython3",
   "version": "3.9.19"
  }
 },
 "nbformat": 4,
 "nbformat_minor": 5
}
