{
 "cells": [
  {
   "cell_type": "markdown",
   "id": "f5670a8e-3edd-4b29-a0ba-dcaa6296205d",
   "metadata": {},
   "source": [
    "# Listing available models\n",
    "This notebook lists models that are available via the OpenAI API."
   ]
  },
  {
   "cell_type": "code",
   "execution_count": 4,
   "id": "0b1be226-3342-4da5-91c8-96465bac6499",
   "metadata": {
    "tags": []
   },
   "outputs": [
    {
     "data": {
      "text/plain": [
       "['babbage-002',\n",
       " 'dall-e-2',\n",
       " 'dall-e-3',\n",
       " 'davinci-002',\n",
       " 'ft:gpt-3.5-turbo-0125:leipzig-university::9VNFya3H:ckpt-step-77',\n",
       " 'ft:gpt-3.5-turbo-0125:leipzig-university::9VNFz3h3',\n",
       " 'ft:gpt-3.5-turbo-0125:leipzig-university::9VNFzOv6:ckpt-step-88',\n",
       " 'ft:gpt-3.5-turbo-0125:leipzig-university::9WlQiTl6:ckpt-step-77',\n",
       " 'ft:gpt-3.5-turbo-0125:leipzig-university::9WlQjtjc',\n",
       " 'ft:gpt-3.5-turbo-0125:leipzig-university::9WlQjz24:ckpt-step-88',\n",
       " 'gpt-3.5-turbo',\n",
       " 'gpt-3.5-turbo-0125',\n",
       " 'gpt-3.5-turbo-0301',\n",
       " 'gpt-3.5-turbo-0613',\n",
       " 'gpt-3.5-turbo-1106',\n",
       " 'gpt-3.5-turbo-16k',\n",
       " 'gpt-3.5-turbo-16k-0613',\n",
       " 'gpt-3.5-turbo-instruct',\n",
       " 'gpt-3.5-turbo-instruct-0914',\n",
       " 'gpt-4',\n",
       " 'gpt-4-0125-preview',\n",
       " 'gpt-4-0613',\n",
       " 'gpt-4-1106-preview',\n",
       " 'gpt-4-1106-vision-preview',\n",
       " 'gpt-4-turbo',\n",
       " 'gpt-4-turbo-2024-04-09',\n",
       " 'gpt-4-turbo-preview',\n",
       " 'gpt-4-vision-preview',\n",
       " 'gpt-4o',\n",
       " 'gpt-4o-2024-05-13',\n",
       " 'text-embedding-3-large',\n",
       " 'text-embedding-3-small',\n",
       " 'text-embedding-ada-002',\n",
       " 'tts-1',\n",
       " 'tts-1-1106',\n",
       " 'tts-1-hd',\n",
       " 'tts-1-hd-1106',\n",
       " 'whisper-1']"
      ]
     },
     "execution_count": 4,
     "metadata": {},
     "output_type": "execute_result"
    }
   ],
   "source": [
    "from openai import OpenAI\n",
    "client = OpenAI()\n",
    "sorted([model.id for model in client.models.list().data])"
   ]
  },
  {
   "cell_type": "code",
   "execution_count": null,
   "id": "d800277f-a1de-46ef-a446-b5384d0e0dc3",
   "metadata": {},
   "outputs": [],
   "source": []
  }
 ],
 "metadata": {
  "kernelspec": {
   "display_name": "Python 3 (ipykernel)",
   "language": "python",
   "name": "python3"
  },
  "language_info": {
   "codemirror_mode": {
    "name": "ipython",
    "version": 3
   },
   "file_extension": ".py",
   "mimetype": "text/x-python",
   "name": "python",
   "nbconvert_exporter": "python",
   "pygments_lexer": "ipython3",
   "version": "3.9.19"
  }
 },
 "nbformat": 4,
 "nbformat_minor": 5
}
