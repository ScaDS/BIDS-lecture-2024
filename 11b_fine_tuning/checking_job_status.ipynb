{
 "cells": [
  {
   "cell_type": "markdown",
   "id": "6636c017-763d-4e48-9fa3-c33dc4354163",
   "metadata": {},
   "source": [
    "## Checking a fine-tuning job status\n",
    "This notebook just serves as a little tool for checking the status of a fine-tuning job, e.g. while it is running."
   ]
  },
  {
   "cell_type": "code",
   "execution_count": 1,
   "id": "4c259db8-282c-4070-b038-93a25cca95dc",
   "metadata": {
    "tags": []
   },
   "outputs": [],
   "source": [
    "import openai\n",
    "client = openai.OpenAI()"
   ]
  },
  {
   "cell_type": "code",
   "execution_count": 2,
   "id": "50fc4ebd-4630-4bdf-8035-099b8ce81c0a",
   "metadata": {
    "tags": []
   },
   "outputs": [
    {
     "data": {
      "text/plain": [
       "FineTuningJob(id='ftjob-3QzD0JsWtUffoHZQJShPnbsO', created_at=1717678378, error=Error(code=None, message=None, param=None), fine_tuned_model=None, finished_at=None, hyperparameters=Hyperparameters(n_epochs=9, batch_size=1, learning_rate_multiplier=2), model='gpt-3.5-turbo-0125', object='fine_tuning.job', organization_id='org-0POmhzyaeDng5lZtM7Cls3vt', result_files=[], seed=1247612361, status='running', trained_tokens=None, training_file='file-rszpNn5JmSKnjOCZJMSNtwMX', validation_file=None, estimated_finish=1717678791, integrations=[], user_provided_suffix=None)"
      ]
     },
     "execution_count": 2,
     "metadata": {},
     "output_type": "execute_result"
    }
   ],
   "source": [
    "job_details = client.fine_tuning.jobs.retrieve(\"ftjob-3QzD0JsWtUffoHZQJShPnbsO\")\n",
    "job_details"
   ]
  },
  {
   "cell_type": "code",
   "execution_count": null,
   "id": "9b067f6e-98cd-4ca5-8445-36f9eefa871e",
   "metadata": {},
   "outputs": [],
   "source": []
  }
 ],
 "metadata": {
  "kernelspec": {
   "display_name": "Python 3 (ipykernel)",
   "language": "python",
   "name": "python3"
  },
  "language_info": {
   "codemirror_mode": {
    "name": "ipython",
    "version": 3
   },
   "file_extension": ".py",
   "mimetype": "text/x-python",
   "name": "python",
   "nbconvert_exporter": "python",
   "pygments_lexer": "ipython3",
   "version": "3.9.19"
  }
 },
 "nbformat": 4,
 "nbformat_minor": 5
}
