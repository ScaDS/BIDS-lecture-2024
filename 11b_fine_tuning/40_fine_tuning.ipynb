{
 "cells": [
  {
   "cell_type": "markdown",
   "id": "4e5023a8-beb3-4eff-904b-1a2f89aaee01",
   "metadata": {},
   "source": [
    "# Fine-tuning a model from questions and answers\n",
    "In this notebook we take a text file in the following format to fine-tune a GPT-based language model using OpenAI's infrastructure.\n",
    "\n",
    "<pre>\n",
    "Question:\n",
    "\n",
    "How can I open CZI or LIF files using Python?\n",
    "\n",
    "Answer:\n",
    "\n",
    "To open CZI or LIF files, you can use the AICSImageIO package. \n",
    "In the following code the file `filename` will be loaded and \n",
    "the image data will be stored in `image`.\n",
    "\n",
    "```python\n",
    "from aicsimageio import AICSImage\n",
    "aics_image = AICSImage(\"../../data/EM_C_6_c0.ome.tif\")\n",
    "\n",
    "np_image = aics_image.get_image_data(\"ZYX\")\n",
    "```\n",
    "</pre>\n",
    "\n",
    "See also:\n",
    "* [lazyprogrammer tutorial](https://lazyprogrammer.me/how-to-fine-tune-chatgpt-gpt-3-5-turbo-using-the-openai-api-in-python/)\n",
    "* [openai blog](https://openai.com/blog/gpt-3-5-turbo-fine-tuning-and-api-updates)\n",
    "* [openai tutorial](https://platform.openai.com/docs/guides/fine-tuning/create-a-fine-tuned-model)\n",
    "* [openai documentation](https://platform.openai.com/docs/api-reference/fine-tuning/create)\n",
    "* [datacamp tutorial](https://www.datacamp.com/tutorial/fine-tuning-gpt-3-using-the-open-ai-api-and-python)\n",
    "\n",
    "Todo: We could submit training and validation data separately. This notebook does not cover this yet due to limited training data. As soon as we have a larger pool of training data, we can give this a try."
   ]
  },
  {
   "cell_type": "code",
   "execution_count": 1,
   "id": "9414688b-3f0c-4fc9-9df2-5d81344cb035",
   "metadata": {
    "tags": []
   },
   "outputs": [],
   "source": [
    "from fine_tuning_utilities import load_jsonl_file, save_jsonl_file\n",
    "import time\n",
    "import os\n",
    "import openai\n",
    "import json"
   ]
  },
  {
   "cell_type": "markdown",
   "id": "84ff1c7d-adf3-4de1-abd7-3ac869144133",
   "metadata": {
    "tags": []
   },
   "source": [
    "First, we need to convert the text document into jsonl format representing conversions between user and assistant as required by OpenAI."
   ]
  },
  {
   "cell_type": "code",
   "execution_count": 2,
   "id": "b336551c-cb08-4835-bff7-5c3808ce7932",
   "metadata": {
    "tags": []
   },
   "outputs": [
    {
     "data": {
      "text/plain": [
       "[{'messages': [{'role': 'user',\n",
       "    'content': 'How can I display an image with a slider and label showing mouse position and intensity?'},\n",
       "   {'role': 'assistant',\n",
       "    'content': 'To display an image with a slider and label showing mouse position and intensity, you can use the following code:\\n```python\\nstackview.annotate(image, labels)\\n```'}]},\n",
       " {'messages': [{'role': 'user',\n",
       "    'content': 'How can I allow cropping an image along all axes?'},\n",
       "   {'role': 'assistant',\n",
       "    'content': 'You can crop an image along all axes using the following function:\\n```python\\nstackview.crop(image)\\n```'}]}]"
      ]
     },
     "execution_count": 2,
     "metadata": {},
     "output_type": "execute_result"
    }
   ],
   "source": [
    "qa_text_filename = \"question_answers_generated.txt\"\n",
    "\n",
    "with open(qa_text_filename, \"r\") as file:\n",
    "    lines = file.read()\n",
    "\n",
    "# Convert text to list of dictionaries\n",
    "training_data = []\n",
    "\n",
    "blocks = lines.split(\"Question:\")\n",
    "for block in blocks:\n",
    "    sub_blocks = block.split(\"Answer:\")\n",
    "    if len(sub_blocks) == 2:\n",
    "        question = sub_blocks[0].strip().strip(\"\\n\").strip()\n",
    "        answer =   sub_blocks[1].strip().strip(\"\\n\").strip()\n",
    "        \n",
    "        training_data.append(\n",
    "            {\n",
    "                \"messages\": [\n",
    "                    # {\"role\": \"system\", \"content\": \"\"\"Enter a smart system message here.\"\"\"},\n",
    "                    {\"role\": \"user\", \"content\": question},\n",
    "                    {\"role\": \"assistant\", \"content\": answer}\n",
    "                ]\n",
    "            })\n",
    "\n",
    "training_data[:2]"
   ]
  },
  {
   "cell_type": "code",
   "execution_count": 3,
   "id": "eb825aa2-a7f9-401d-80d9-aac22a80a8c9",
   "metadata": {},
   "outputs": [],
   "source": [
    "# save training data to a temporary file\n",
    "training_data_file_path = \"training_data.jsonl\"\n",
    "save_jsonl_file(training_data, training_data_file_path)"
   ]
  },
  {
   "cell_type": "code",
   "execution_count": 4,
   "id": "083448b8-8185-44d9-a689-3172c5cd4e16",
   "metadata": {},
   "outputs": [
    {
     "name": "stdout",
     "output_type": "stream",
     "text": [
      "Uploading / preprocessing done.\n"
     ]
    }
   ],
   "source": [
    "client = openai.OpenAI()\n",
    "\n",
    "# upload and preprocess file\n",
    "training_file = client.files.create(\n",
    "    file=open(training_data_file_path, \"rb\"),\n",
    "    purpose='fine-tune',\n",
    ")\n",
    "\n",
    "# wait until preprocessing is finished\n",
    "while client.files.retrieve(training_file.id).status != \"processed\":\n",
    "    time.sleep(30)\n",
    "\n",
    "print(\"Uploading / preprocessing done.\")"
   ]
  },
  {
   "cell_type": "code",
   "execution_count": 5,
   "id": "b6326a4e-cec4-4ada-a791-bc0c5fd3e2f5",
   "metadata": {},
   "outputs": [
    {
     "data": {
      "text/plain": [
       "FineTuningJob(id='ftjob-nSXw9q94peyfTaBatGGahuZN', created_at=1717680034, error=Error(code=None, message=None, param=None), fine_tuned_model=None, finished_at=None, hyperparameters=Hyperparameters(n_epochs='auto', batch_size='auto', learning_rate_multiplier='auto'), model='gpt-3.5-turbo-0125', object='fine_tuning.job', organization_id='org-0POmhzyaeDng5lZtM7Cls3vt', result_files=[], seed=485481089, status='validating_files', trained_tokens=None, training_file='file-v6hGXPsQ2JYLRzgcmWPZvGke', validation_file=None, estimated_finish=None, integrations=[], user_provided_suffix=None)"
      ]
     },
     "execution_count": 5,
     "metadata": {},
     "output_type": "execute_result"
    }
   ],
   "source": [
    "# start fine-tuning\n",
    "fine_tuning_job = client.fine_tuning.jobs.create(\n",
    "                        training_file=training_file.id, \n",
    "                        model=\"gpt-3.5-turbo\")\n",
    "fine_tuning_job"
   ]
  },
  {
   "cell_type": "code",
   "execution_count": 6,
   "id": "d6a1a83a-4c4d-460d-9dc2-8734e472748b",
   "metadata": {
    "tags": []
   },
   "outputs": [
    {
     "data": {
      "text/plain": [
       "FineTuningJob(id='ftjob-nSXw9q94peyfTaBatGGahuZN', created_at=1717680034, error=Error(code=None, message=None, param=None), fine_tuned_model=None, finished_at=None, hyperparameters=Hyperparameters(n_epochs='auto', batch_size='auto', learning_rate_multiplier='auto'), model='gpt-3.5-turbo-0125', object='fine_tuning.job', organization_id='org-0POmhzyaeDng5lZtM7Cls3vt', result_files=[], seed=485481089, status='validating_files', trained_tokens=None, training_file='file-v6hGXPsQ2JYLRzgcmWPZvGke', validation_file=None, estimated_finish=None, integrations=[], user_provided_suffix=None)"
      ]
     },
     "execution_count": 6,
     "metadata": {},
     "output_type": "execute_result"
    }
   ],
   "source": [
    "job_details = client.fine_tuning.jobs.retrieve(\n",
    "                        fine_tuning_job.id)\n",
    "job_details"
   ]
  },
  {
   "cell_type": "code",
   "execution_count": 7,
   "id": "a6c09603-7191-4979-9924-16d6beac89b9",
   "metadata": {
    "tags": []
   },
   "outputs": [
    {
     "data": {
      "text/plain": [
       "'validating_files'"
      ]
     },
     "execution_count": 7,
     "metadata": {},
     "output_type": "execute_result"
    }
   ],
   "source": [
    "job_details.status"
   ]
  },
  {
   "cell_type": "code",
   "execution_count": 8,
   "id": "2e5c0ac6-cdd4-40ea-9bc4-924647171e68",
   "metadata": {
    "tags": []
   },
   "outputs": [
    {
     "data": {
      "text/plain": [
       "'validating_files'"
      ]
     },
     "execution_count": 8,
     "metadata": {},
     "output_type": "execute_result"
    }
   ],
   "source": [
    "job_details = client.fine_tuning.jobs.retrieve(fine_tuning_job.id)\n",
    "job_details.status"
   ]
  },
  {
   "cell_type": "code",
   "execution_count": 9,
   "id": "18caab62-ded9-49e4-9fee-6f6a34be9085",
   "metadata": {
    "tags": []
   },
   "outputs": [
    {
     "data": {
      "text/plain": [
       "Error(code=None, message=None, param=None)"
      ]
     },
     "execution_count": 9,
     "metadata": {},
     "output_type": "execute_result"
    }
   ],
   "source": [
    "job_details = client.fine_tuning.jobs.retrieve(fine_tuning_job.id)\n",
    "job_details.error"
   ]
  },
  {
   "cell_type": "markdown",
   "id": "26a9e9fb-950d-4207-8edd-4c3a838bfc8a",
   "metadata": {},
   "source": [
    "In case you don't want to run the cell above repeatedly manually, one can also run such a request in a loop:"
   ]
  },
  {
   "cell_type": "code",
   "execution_count": 10,
   "id": "277551cc-7452-488e-b739-4a0f8c0de891",
   "metadata": {},
   "outputs": [
    {
     "data": {
      "text/plain": [
       "'succeeded'"
      ]
     },
     "execution_count": 10,
     "metadata": {},
     "output_type": "execute_result"
    }
   ],
   "source": [
    "while client.fine_tuning.jobs.retrieve(fine_tuning_job.id).status not in [\"succeeded\", \"failed\"]:\n",
    "    time.sleep(120)\n",
    "\n",
    "job_details = client.fine_tuning.jobs.retrieve(\n",
    "                fine_tuning_job.id)\n",
    "job_details.status "
   ]
  },
  {
   "cell_type": "markdown",
   "id": "635e038d-7dd0-437d-8231-3ba5e43077ba",
   "metadata": {},
   "source": [
    "## Retrieving the new model name\n",
    "Once done, one can retrieve the name of the fine-tuned model like this:"
   ]
  },
  {
   "cell_type": "code",
   "execution_count": 11,
   "id": "94eabed7-8d8b-458f-b8ec-9b3d9bc0fca5",
   "metadata": {},
   "outputs": [
    {
     "data": {
      "text/plain": [
       "'ft:gpt-3.5-turbo-0125:leipzig-university::9X7PFVgP'"
      ]
     },
     "execution_count": 11,
     "metadata": {},
     "output_type": "execute_result"
    }
   ],
   "source": [
    "model_name = job_details.fine_tuned_model\n",
    "model_name"
   ]
  },
  {
   "cell_type": "code",
   "execution_count": null,
   "id": "915056ce-0449-45e5-98f5-cae46e9c96a9",
   "metadata": {},
   "outputs": [],
   "source": []
  }
 ],
 "metadata": {
  "kernelspec": {
   "display_name": "Python 3 (ipykernel)",
   "language": "python",
   "name": "python3"
  },
  "language_info": {
   "codemirror_mode": {
    "name": "ipython",
    "version": 3
   },
   "file_extension": ".py",
   "mimetype": "text/x-python",
   "name": "python",
   "nbconvert_exporter": "python",
   "pygments_lexer": "ipython3",
   "version": "3.9.19"
  }
 },
 "nbformat": 4,
 "nbformat_minor": 5
}
