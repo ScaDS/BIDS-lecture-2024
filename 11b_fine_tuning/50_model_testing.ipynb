{
 "cells": [
  {
   "cell_type": "markdown",
   "id": "e766a254-6220-4f99-9c8a-2c79cd21f9f3",
   "metadata": {},
   "source": [
    "# Test fine-tuned models\n",
    "This notebooks serves testing a fine-tuned model using a not-so-simple task."
   ]
  },
  {
   "cell_type": "code",
   "execution_count": 1,
   "id": "48286f81-b7f8-4c8e-8bb7-7e8cb4d99d53",
   "metadata": {},
   "outputs": [],
   "source": [
    "from fine_tuning_utilities import prompt\n",
    "from IPython.display import Markdown"
   ]
  },
  {
   "cell_type": "code",
   "execution_count": 2,
   "id": "fb716a01-ffa1-44a6-819e-7ca407cac974",
   "metadata": {
    "tags": []
   },
   "outputs": [],
   "source": [
    "fine_tuned_model = \"ft:gpt-3.5-turbo-0125:leipzig-university::9X7PFVgP\""
   ]
  },
  {
   "cell_type": "code",
   "execution_count": 3,
   "id": "35c7e579-a8e1-4d65-adff-848686f409b9",
   "metadata": {},
   "outputs": [
    {
     "data": {
      "text/markdown": [
       "Sure! Here's the code to load the image, segment the nuclei, and show the result:\n",
       "```python\n",
       "stackview.view(segmentation.nuclei(image, method='threshold'))\n",
       "```"
      ],
      "text/plain": [
       "<IPython.core.display.Markdown object>"
      ]
     },
     "execution_count": 3,
     "metadata": {},
     "output_type": "execute_result"
    }
   ],
   "source": [
    "response = prompt(f\"\"\"\n",
    "Write Python code to load the image ../11a_prompt_engineering/data/blobs.tif,\n",
    "segment the nuclei in it and\n",
    "show the result\n",
    "\"\"\", model=fine_tuned_model)\n",
    "\n",
    "Markdown(response)"
   ]
  },
  {
   "cell_type": "markdown",
   "id": "ceddac44-915f-4c3f-b8b9-444d34007f9f",
   "metadata": {},
   "source": [
    "We can also compare the output to plain chatGPT:"
   ]
  },
  {
   "cell_type": "code",
   "execution_count": 4,
   "id": "86a66fea-c11d-45ab-8e04-f02011d5cab7",
   "metadata": {},
   "outputs": [
    {
     "data": {
      "text/markdown": [
       "Here is the Python code to achieve this using the OpenCV library:\n",
       "\n",
       "```python\n",
       "import cv2\n",
       "import numpy as np\n",
       "from matplotlib import pyplot as plt\n",
       "\n",
       "# Load the image\n",
       "image_path = \"../11a_prompt_engineering/data/blobs.tif\"\n",
       "image = cv2.imread(image_path, cv2.IMREAD_GRAYSCALE)\n",
       "\n",
       "# Apply Gaussian blur to smoothen the image\n",
       "image_blur = cv2.GaussianBlur(image, (11, 11), 0)\n",
       "\n",
       "# Perform Otsu's thresholding to binarize the image\n",
       "ret, thresh = cv2.threshold(image_blur, 0, 255, cv2.THRESH_BINARY + cv2.THRESH_OTSU)\n",
       "\n",
       "# Perform morphological operations to clean up the image\n",
       "kernel = np.ones((3,3), np.uint8)\n",
       "opening = cv2.morphologyEx(thresh, cv2.MORPH_OPEN, kernel, iterations=2)\n",
       "sure_bg = cv2.dilate(opening, kernel, iterations=3)\n",
       "\n",
       "# Distance transform\n",
       "dist_transform = cv2.distanceTransform(opening, cv2.DIST_L2, 5)\n",
       "ret, sure_fg = cv2.threshold(dist_transform, 0.7*dist_transform.max(), 255, 0)\n",
       "\n",
       "# FG - BG\n",
       "sure_fg = np.uint8(sure_fg)\n",
       "unknown = cv2.subtract(sure_bg, sure_fg)\n",
       "\n",
       "# Label markers\n",
       "ret, markers = cv2.connectedComponents(sure_fg)\n",
       "markers = markers + 1\n",
       "markers[unknown == 255] = 0\n",
       "\n",
       "# Apply watershed\n",
       "markers = cv2.watershed(image, markers)\n",
       "image[markers == -1] = [255, 0, 0]\n",
       "\n",
       "# Display the segmented nuclei\n",
       "plt.imshow(cv2.cvtColor(image, cv2.COLOR_BGR2RGB))\n",
       "plt.axis('off')\n",
       "plt.show()\n",
       "```\n",
       "\n",
       "Make sure you have the necessary libraries installed by using pip install opencv-python matplotlib."
      ],
      "text/plain": [
       "<IPython.core.display.Markdown object>"
      ]
     },
     "execution_count": 4,
     "metadata": {},
     "output_type": "execute_result"
    }
   ],
   "source": [
    "response = prompt(f\"\"\"\n",
    "Write Python code to load the image ../11a_prompt_engineering/data/blobs.tif,\n",
    "segment the nuclei in it and\n",
    "show the result\n",
    "\"\"\")\n",
    "\n",
    "Markdown(response)"
   ]
  },
  {
   "cell_type": "markdown",
   "id": "ea25f97f-422f-442d-b26c-5088a27e3f95",
   "metadata": {},
   "source": [
    "## Exercise\n",
    "Speculate: Why is this fine-tuned model not capable of returning complex code? Compare it with `ft:gpt-3.5-turbo-0125:leipzig-university::9X7CCzv4` that was trained on `question_answers_hand_crafted.txt` What makes these two models different?"
   ]
  },
  {
   "cell_type": "code",
   "execution_count": null,
   "id": "7d4177ea-3d91-4022-b1ba-122bbeba6220",
   "metadata": {},
   "outputs": [],
   "source": []
  }
 ],
 "metadata": {
  "kernelspec": {
   "display_name": "Python 3 (ipykernel)",
   "language": "python",
   "name": "python3"
  },
  "language_info": {
   "codemirror_mode": {
    "name": "ipython",
    "version": 3
   },
   "file_extension": ".py",
   "mimetype": "text/x-python",
   "name": "python",
   "nbconvert_exporter": "python",
   "pygments_lexer": "ipython3",
   "version": "3.9.19"
  }
 },
 "nbformat": 4,
 "nbformat_minor": 5
}
