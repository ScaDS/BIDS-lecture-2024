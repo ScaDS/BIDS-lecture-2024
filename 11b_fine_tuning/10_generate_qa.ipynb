{
 "cells": [
  {
   "cell_type": "markdown",
   "id": "d0dad026-1827-4ab9-984e-8ab8ef1c7e6b",
   "metadata": {},
   "source": [
    "# Turning knowledge into a list of question and answers\n",
    "In this notebook we take the generated knowledge.txt from the last exercise and turn it into a list of questions and answers. Depending on the language model you attempt to fine-tune, such a format may be required."
   ]
  },
  {
   "cell_type": "code",
   "execution_count": 1,
   "id": "55b68001-a83c-4ff4-b36d-0a7ddfe973f0",
   "metadata": {},
   "outputs": [],
   "source": [
    "from fine_tuning_utilities import prompt"
   ]
  },
  {
   "cell_type": "code",
   "execution_count": 2,
   "id": "2666458d-090e-4d97-b267-a20833ab7a0d",
   "metadata": {
    "tags": []
   },
   "outputs": [],
   "source": [
    "filename = '../11a_prompt_engineering/code_snippets.txt'\n",
    "\n",
    "with open(filename, 'r') as file:\n",
    "    content = file.read()"
   ]
  },
  {
   "cell_type": "markdown",
   "id": "abe0db76-2c22-4d5b-94a6-d3ab53350595",
   "metadata": {},
   "source": [
    "In the following prompt we ask the chat model to do the content conversion. We provide the data and give an example."
   ]
  },
  {
   "cell_type": "code",
   "execution_count": 3,
   "id": "952d59d0-743c-4b85-a837-57be20872c01",
   "metadata": {
    "tags": []
   },
   "outputs": [
    {
     "name": "stdout",
     "output_type": "stream",
     "text": [
      "\n",
      "\"\"\"\n",
      "Question:\n",
      "How can I display an image with a slider and label showing mouse position and intensity?\n",
      "\n",
      "Answer:\n",
      "To display an image with a slider and label showing mouse position and intensity, you can use the following code:\n",
      "```python\n",
      "stackview.annotate(image, labels)\n",
      "```\n",
      "\"\"\"\n",
      "\n",
      "Question:\n",
      "How can I allow cropping an image along all axes?\n",
      "\n",
      "Answer:\n",
      "You can crop an image along all axes using the following function:\n",
      "```python\n",
      "stackview.crop(image)\n",
      "```\n",
      "\"\"\"\n",
      "\n",
      "Question:\n",
      "How can I show an image stored in a variable `image` and a segmented image stored in a variable `labels` on top?\n",
      "\n",
      "Answer:\n",
      "To show an image and a segmented image on top, you can use the `curtain` function with parameters `image`, `labels`, and optional `alpha`:\n",
      "```python\n",
      "stackview.curtain(image, labels, alpha: float = 1)\n",
      "```\n",
      "\"\"\"\n",
      "\n",
      "Question:\n",
      "How can I display an image stored in a variable `image` and enable slicing in three dimensions?\n",
      "\n",
      "Answer:\n",
      "You can display an image and enable slicing in three dimensions using the `orthogonal` function and passing the `image` as a parameter:\n",
      "```python\n",
      "stackview.orthogonal(image)\n",
      "```\n",
      "\"\"\"\n",
      "\n",
      "Question:\n",
      "How can I build a user interface with sliders for numeric parameters?\n",
      "\n",
      "Answer:\n",
      "To build a user interface with sliders for numeric parameters, you can use the `interact` function with a function and the `image` parameter:\n",
      "```python\n",
      "stackview.interact(func, image)\n",
      "```\n",
      "\"\"\"\n",
      "\n",
      "Question:\n",
      "How can I display two images side by side, with an additional overlay view of their overlap?\n",
      "\n",
      "Answer:\n",
      "You can display two images side by side with an overlay view by using the `side_by_side` function with parameters `image1` and `image2`:\n",
      "```python\n",
      "stackview.side_by_side(image1, image2)\n",
      "```\n",
      "\"\"\"\n",
      "\n",
      "Question:\n",
      "How can I display an image with a slider to navigate through a stack?\n",
      "\n",
      "Answer:\n",
      "To display an image with a slider for stack navigation, you can use the `slice` function with the `image` parameter:\n",
      "```python\n",
      "stackview.slice(image)\n",
      "```\n",
      "\"\"\"\n",
      "\n",
      "Question:\n",
      "How can I allow switching between multiple images and displaying them with a slider?\n",
      "\n",
      "Answer:\n",
      "To switch between multiple images and display them with a slider, you can use the `switch` function with a list of images as a parameter:\n",
      "```python\n",
      "stackview.switch(images:list)\n",
      "```\n",
      "\"\"\"\n",
      "\n",
      "Question:\n",
      "How can I perform binary edge detection by setting only surface pixels to 1 in a destination binary image?\n",
      "\n",
      "Answer:\n",
      "You can perform binary edge detection using the `binary_edge_detection` function with source and destination arrays as parameters:\n",
      "```python\n",
      "cle.binary_edge_detection(source: ndarray, destination: ndarray = None) -> ndarray\n",
      "```\n",
      "\"\"\"\n",
      "\n",
      "Question:\n",
      "How can I create a binary image by inverting pixel values in an input image?\n",
      "\n",
      "Answer:\n",
      "To create a binary image by inverting pixel values, you can use the `binary_not` function with source and destination arrays as parameters:\n",
      "```python\n",
      "cle.binary_not(source: ndarray, destination: ndarray = None) -> ndarray\n",
      "```\n",
      "\"\"\"\n",
      "\n",
      "Question:\n",
      "How can I determine centroids of all labels in an image and write coordinates in a pointlist image?\n",
      "\n",
      "Answer:\n",
      "You can determine centroids of all labels in an image and write coordinates using the `centroids_of_labels` function with labels, pointlist destination, and optional include background parameter:\n",
      "```python\n",
      "cle.centroids_of_labels(labels: ndarray, pointlist_destination: ndarray = None, include_background: bool = False) -> ndarray\n",
      "```\n",
      "\"\"\"\n",
      "\n",
      "Question:\n",
      "How can I analyze a label map to ensure all labels are indexed without gaps before returning the relabeled map?\n",
      "\n",
      "Answer:\n",
      "To analyze a label map and ensure all labels are indexed without gaps, you can use the `relabel_sequential` function with source and output arrays as parameters:\n",
      "```python\n",
      "cle.relabel_sequential(source: ndarray, output: ndarray = None, blocksize: int = 4096) -> ndarray\n",
      "\"\"\"\n",
      "\"\"\"\n"
     ]
    }
   ],
   "source": [
    "qa = prompt(f\"\"\"\n",
    "Convert the following text to a list of questions and answers.\n",
    "\n",
    "Text:\n",
    "```\n",
    "{content}\n",
    "```\n",
    "\n",
    "Example format:\n",
    "\n",
    "\\\"\\\"\\\"\n",
    "Question: \n",
    "How can I denoise an image using Gaussian blur?\n",
    "\n",
    "Answer:\n",
    "Gaussian blur for image denoising can be used like this:\n",
    "```python\n",
    "skimage.filters.gaussian(image, sigma=5)\n",
    "```\n",
    "\\\"\\\"\\\"\n",
    "\n",
    "Convert the text above sentence-by-sentence in a format as shown in the example.\n",
    "\"\"\")\n",
    "\n",
    "print(qa)"
   ]
  },
  {
   "cell_type": "markdown",
   "id": "fc75a978-b026-4ee8-94c1-95309facbd06",
   "metadata": {},
   "source": [
    "We store the result in a text file."
   ]
  },
  {
   "cell_type": "code",
   "execution_count": 5,
   "id": "4a28730e-8596-45dc-a9ce-47bce6443b65",
   "metadata": {
    "tags": []
   },
   "outputs": [],
   "source": [
    "with open('question_answers_generated.txt', 'w') as file:\n",
    "    file.write(qa.replace('\"\"\"',''))"
   ]
  },
  {
   "cell_type": "markdown",
   "id": "5e224184-3d60-408a-99fd-a5f33d3b3cc8",
   "metadata": {},
   "source": [
    "## Optional exercise\n",
    "If you have a text file full of knowledge, feel free to convert it to a list of questions and answers."
   ]
  },
  {
   "cell_type": "code",
   "execution_count": null,
   "id": "64f9a1b9-da63-4435-b212-5207df2cad15",
   "metadata": {},
   "outputs": [],
   "source": []
  },
  {
   "cell_type": "markdown",
   "id": "d5ba861d-e8fd-4c7f-b4cf-57a60b259c07",
   "metadata": {
    "tags": []
   },
   "source": [
    "## Optional exercise\n",
    "Consider reviewing the list of questions and answers. Delete trivial entries or improve the quality."
   ]
  },
  {
   "cell_type": "code",
   "execution_count": null,
   "id": "75d460f2-266c-43d9-a851-81797a53711d",
   "metadata": {},
   "outputs": [],
   "source": []
  }
 ],
 "metadata": {
  "kernelspec": {
   "display_name": "Python 3 (ipykernel)",
   "language": "python",
   "name": "python3"
  },
  "language_info": {
   "codemirror_mode": {
    "name": "ipython",
    "version": 3
   },
   "file_extension": ".py",
   "mimetype": "text/x-python",
   "name": "python",
   "nbconvert_exporter": "python",
   "pygments_lexer": "ipython3",
   "version": "3.9.19"
  }
 },
 "nbformat": 4,
 "nbformat_minor": 5
}
