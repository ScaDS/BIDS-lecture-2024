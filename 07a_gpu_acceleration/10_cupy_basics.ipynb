{
 "cells": [
  {
   "cell_type": "markdown",
   "id": "29550231-99d0-4005-9196-9cff5ebcd641",
   "metadata": {
    "tags": []
   },
   "source": [
    "# Basics of Cupy\n",
    "[Cupy](https://docs.cupy.dev/) is a library for processing data on CUDA-compatible NVidia graphics cards. For testing this notebook consider using the [Jupyter Hub of ULEI´s Scientific Computing](https://lab.sc.uni-leipzig.de/).\n",
    "\n",
    "See also\n",
    "* [cupy basics tutorial](https://docs.cupy.dev/en/stable/user_guide/basic.html)"
   ]
  },
  {
   "cell_type": "code",
   "execution_count": 1,
   "id": "6ec5ecdf-2af9-42aa-bf8b-c3298cfdb6cb",
   "metadata": {
    "tags": []
   },
   "outputs": [],
   "source": [
    "import numpy as np\n",
    "import cupy as cp\n",
    "import cupyx.scipy.ndimage as cdi\n",
    "\n",
    "from skimage.io import imread\n",
    "import stackview"
   ]
  },
  {
   "cell_type": "code",
   "execution_count": 2,
   "id": "c9b4907f-7376-4729-9e59-2626562841cf",
   "metadata": {
    "tags": []
   },
   "outputs": [],
   "source": [
    "image = imread(\"../03b_image_processing/data/blobs.tif\")"
   ]
  },
  {
   "cell_type": "markdown",
   "id": "a5558750-a02e-4a68-a243-578d12f50219",
   "metadata": {},
   "source": [
    "When working with cupy it is important to convert numpy arrays to cupy arrays, e.g. using the `cupy.asarray()` function."
   ]
  },
  {
   "cell_type": "code",
   "execution_count": 3,
   "id": "f4939636-02fa-4910-ba3e-39b01ece8099",
   "metadata": {
    "tags": []
   },
   "outputs": [],
   "source": [
    "cp_image = cp.asarray(image)"
   ]
  },
  {
   "cell_type": "markdown",
   "id": "d0aecf81-9269-404b-90a6-ef58a406b282",
   "metadata": {},
   "source": [
    "Cupy arrays work pretty much the same as numpy arrays. For example, we can apply a threshold using the `>` operator."
   ]
  },
  {
   "cell_type": "code",
   "execution_count": 4,
   "id": "e1b02205-8e1e-48a8-bc92-36bbaac05abb",
   "metadata": {
    "tags": []
   },
   "outputs": [],
   "source": [
    "cp_binary = cp_image > 128"
   ]
  },
  {
   "cell_type": "markdown",
   "id": "762fb1c3-23f5-4327-aa86-179d9a08b007",
   "metadata": {},
   "source": [
    "We can also apply connected component labeling to separate objects."
   ]
  },
  {
   "cell_type": "code",
   "execution_count": 5,
   "id": "bc58451a-b58a-4b2a-ae84-49ec640cdb5a",
   "metadata": {
    "tags": []
   },
   "outputs": [
    {
     "data": {
      "text/plain": [
       "cupy.ndarray"
      ]
     },
     "execution_count": 5,
     "metadata": {},
     "output_type": "execute_result"
    }
   ],
   "source": [
    "cp_labels, _ = cdi.label(cp_binary)\n",
    "\n",
    "type(cp_labels)"
   ]
  },
  {
   "cell_type": "code",
   "execution_count": 6,
   "id": "0b3fb4b5-d256-4da7-b41a-6506e91dff6e",
   "metadata": {
    "tags": []
   },
   "outputs": [
    {
     "data": {
      "text/html": [
       "<table>\n",
       "<tr>\n",
       "<td>\n",
       "<img src=\"data:image/png;base64,iVBORw0KGgoAAAANSUhEUgAAAoAAAAHgCAYAAAA10dzkAAAAOXRFWHRTb2Z0d2FyZQBNYXRwbG90bGliIHZlcnNpb24zLjguNCwgaHR0cHM6Ly9tYXRwbG90bGliLm9yZy8fJSN1AAAACXBIWXMAAA9hAAAPYQGoP6dpAAA60klEQVR4nO3df3RV9Z3v/1eEEJGGlIDkRwWa6cX+MFxWRYtSFUSN5i5wKH6F6m0vqLdXy4/eDDBOkTVj7FTScq/oHah2OmNBUQbtdwnV6rXGi4CUcosprYCOi1YUaJPJiJgAxgRwf//ge445h/P77B+fvT/Px1pnLXLOPvt8sldWeOX9/nw+u8RxHEcAAACwxjlBDwAAAAD+IgACAABYhgAIAABgGQIgAACAZQiAAAAAliEAAgAAWIYACAAAYBkCIAAAgGUIgAAAAJYhAAIAAFiGAAgAAGAZAiAAAIBlCIAAAACWIQACAABYhgAIAABgGQIgAACAZQiAAAAAliEAAgAAWIYACAAAYBkCIAAAgGUIgAAAAJYhAAIAAFiGAAgAAGAZAiAAAIBlCIAAAACWIQACAABYhgAIAABgGQIgAACAZQiAAAAAliEAAgAAWIYACAAAYBkCIAAAgGUIgAAAAJYhAAIAAFiGAAgAAGAZAiAAAIBlCIAAAACWIQACAABYhgAIAABgGQIgAACAZQiAAAAAliEAAgAAWIYACAAAYBkCIAAAgGUIgAAAAJYhAAIAAFiGAAgAAGAZAiAAAIBlCIAAAACWIQACAABYhgAIAABgGQIgAACAZQiAAAAAliEAWurhhx9WXV2dzj33XE2YMEGvvvpq0EMCAAA+IQBa6KmnnlJTU5OWLVum3bt368orr1RjY6MOHjwY9NAAAIAPShzHcYIeBPw1ceJEXXzxxXrkkUfiz33xi1/UjBkz1NLSEuDIAACAHwYGPQD4q6+vT21tbfrud7+b8HxDQ4N27NiR8j29vb3q7e2Nf/3xxx/r/fff1/Dhw1VSUuLpeAEA3nEcR8eOHVNtba3OOYemoE0IgJZ57733dPr0aVVVVSU8X1VVpY6OjpTvaWlp0X333efH8AAAATh06JAuuOCCoIcBHxEALZVcuXMcJ201b+nSpVq0aFH8666uLo0ePdrT8SUb1fS0Z+c+9NAsz86dStd3y339PEmq+MEx3z8z2Rcf+WLQQ4h789tvBj2EuN/8h7G+f+ZX/rDf98+Eu7755d+4cp6+08f11OtTVV7u/+8lBIsAaJkRI0ZowIABZ1X7Ojs7z6oKxpSVlamsrMyP4Z1lzN/8wtPzv/vDaZ6eP5WhZXa2zQcMHhD0EIz0qQFcF+Tujkve8OS8TOexDw1/ywwaNEgTJkxQa2trwvOtra2aNGlSQKPy37s/nBZI+IMZ6tfWq35tfdDD0Buf/0LQQ0CIeBX+YCcqgBZatGiRvvnNb+qSSy7R5Zdfrp/85Cc6ePCg7rrrrqCHBgAAfEAAtNDs2bN15MgRfe9731N7e7vq6+v1wgsvaMyYMUEPLYHb7V8bK34l93UHPQQYKFZ5/NJb/xrwSAAEhQBoqXnz5mnevHlBDyMlL+b9mRT+Su7rlnPvUF8+xxQmtFuBsKL1Cy8wBxAAAMAyVABhFNq+8MPeuXuDHoIR3vj8F0LZBv7iX3xTkvTm2+sCHgkQXgRAGMHr7V5ME2vPetEKNqn1C7ghFvgyPU8YBPJDCxgAAMAyVAARONuqf14ytfq3d+5eFoIgL+mqfrkcTzUQyI4AiMgKw/w/N1YEmxr6+iP8mcnU+X/5hr9M7w97GGQFMLxCCxgAAMAyVAARGFq/Z/Sv4OVaDQxD1Q/IV7GVv3TnDHsVEPACARAwCMHOH7GWNNvBmMOL8Jd8boIg8AkCIAAE5Etv/Wv8tmx+fy7Mxtw/eI05gAAAAJahAohAeDn/LwyrfwEACBIBEIBn2P4F2Xg59y/MHn3tS5JoBcM7tIABAAAsQwAEgAB96a1/9XVRBgtAAEgEQAAAAOsQAAEAACzDIhAAnolttGzaYhCvN4B++tCMhK9njdqU9T1e7wloc+vXrQ2g777l5rSvrfiXn7nyGYBfCICIFD+2gLn79tkZX1/x06c8HwPMkxz6kl/LJQR6xebwV6xMoS/5OC9C4KOvfYmVwPAELWAAAADLUAEEMshW7cv2HqqBZ+ydu9e4NrBbMlX+Uh3ndyWQ6l9hcq38pXoP7WCEAQEQkeBF67eQ8AfzuTn/L9fwl6tYWHNjLmBYgl9sfp5XG0IXMv+vkPAHhA0tYAAAAMtQAQSSuFn5i52LVrC5K4JNVOyK4GKrfyMWXJX2tfdWbyvq3ADMQABEwUr+8iqVlA7Ux//v5qCHAmTl9dYvbksOcekCoVut3kyhL9/jCgmJb769ztU2sFtbvwBRRQsYAADAMlQAEXpuLgDxauHH3bfPpg38/4vyimAvebWoI9fKX6HnDKJlXGj1z9TFH4++9iVJYj9AuIoACMB3fs8HNKH9G+RG0Ol4Ef6KUeyK4GLavqaGP8ArtIARCLeqdn7c+QPe8TqY7Z2719PPMDHUmaaQkJlPkHvz7XXxhym8CpOxSiDgBgIgAACAZWgBo2jn/D9TC1oJHKvejfmbX7g9JKRw/6H8/t5bNupjj0aSyKt2sAlt3xjTKoV+t35jn5fPfECTKnqFMP2uIFQTQQBEKNH6zS7fwBe0VIEt31AYROgzLdxlE+S8vxELrjJuH8Gwzf0rZkEIoQ/9het/CAAAABSNCiAC9+4Pp+XUBvaj6rfip095shWMX1vAuFn1u//QOb61gdMxqY0LmKR/NS9TNZCqH9IhAKJobtwJpH+46x8GafVmF7ZWL4Jh2pYvcA8hD4Xgfw4AAADLUAGEcaJU9fO69et19S92/qBbwYgO0xaCxFbphm0xCFAsAiAK5vx8m5ygB+GBWGjz6rZwbvC77WvCfEAAgHtoAQMAAFiGAAh4xK+Vv0A2LAABkIwACKRhaoBj1S9gvhX/8jNj7wICSARAAAAA67AIBMigkAUhXlUOg678sSIYAKKjxHGcKC7khIe6u7tVUVER9DAC1T8QhvEuH4Ug+IWXSXMATdoCJplbW8GEsfXb1dWloUOHBj0M+IgKIFAAv+cHBh3+ABsUuydgGIMf7MX/KgAAAJYhAAJAxJnSdjVlHNkUUsmj+oewoQUMAECS/oEuVUuYwIewowIIAABgGVYBI2+FrAIeN/tgwtd7nhrt5pAiy6TFH6wCjoYgVgSHpfXrpxuW/UNOx714/3c8HskZrAK2Dy1geCY59CW/RggE/Pfe6m1GbQtjk1xDX/J7/AqBsIs55QUAAAD4ggogXJep8ofcmdT+lbgTSJTEWrJ+VAJp/xZW+QO8xhxA5C3THMBCwh+t4NRMC4AxBMDsJl7Tk/a1//t/Bvs4kuy8CoEEvzPcDH9etoKZA2gfM/+HAQAAgGdoAQOGMbXyh8wyVf3SHWdaNdAtflX//qEldfXyO0uDrz560fZlQQjcRABE5Py30r9I+fxPTr7t80gQdbmGPpP5OR+wWOkCX6rjTAiBgMkoNQAAAFiGCiBcEeTK33QVv0zHUQ1Eodys+k28pseYNrAb+wN61frNtfIHIHcEQIRaruEv0/tMCoPM/7NPLFCaEARTBbhModCPuX5hDH9s+4IwIADCFbGtXPKpBBaz/UuhwS/duUwKgaayffsXr+f7mVQN7I/tXPL34v3fIQTCeJQbAAAALEMAjJDm5maVlJQkPKqrq+OvO46j5uZm1dbWavDgwZoyZYr27dsX4IgL42b1r/85Yw+cjepf+Ff7hs0/tFwVyvYvEBYEwIi56KKL1N7eHn/s2bMn/tqKFSu0cuVKrV69Wrt27VJ1dbWuu+46HTt2LMARmyfIIGha0Fo26mPjxhRlE6/pIWwC8AUBMGIGDhyo6urq+OP888+XdKb699BDD2nZsmWaOXOm6uvr9dhjj+nDDz/U+vXrAx41AADwEwEwYvbv36/a2lrV1dXp61//ut5++8zihgMHDqijo0MNDQ3xY8vKyjR58mTt2LEj4zl7e3vV3d2d8Ehnz1Oj449MClkA4ndlzvZ2MJW/4FAFLF7QLeQX7/8Od+2A0VgFHCETJ07U448/rgsvvFD/9m//pu9///uaNGmS9u3bp46ODklSVVVVwnuqqqr07rvvZjxvS0uL7rvvvrzHU8wqXwSH4IegMfcvNQIl3EQFMEIaGxt10003ady4cbr22mv1/PPPS5Iee+yx+DElJSUJ73Ec56znki1dulRdXV3xx6FDh9wfPAAA8A0VwAgbMmSIxo0bp/3792vGjBmSpI6ODtXU1MSP6ezsPKsqmKysrExlZWVeDjWroNqxsc/1c5/AWAUuiE2hqf4B7upftWNvQJiECmCE9fb26s0331RNTY3q6upUXV2t1tbW+Ot9fX3aunWrJk2aFOAokY5fYSy20pfwZxZWBAPwEhXACFmyZImmT5+u0aNHq7OzU9///vfV3d2tOXPmqKSkRE1NTVq+fLnGjh2rsWPHavny5TrvvPN06623Bj10AADgIwJghBw+fFi33HKL3nvvPZ1//vm67LLLtHPnTo0ZM0aSdPfdd6unp0fz5s3T0aNHNXHiRL300ksqLy8PeOTpsRL3k6qcmy1hqn2Iuu8sjc4t7Fj8AS+UOI7jBD0IhEt3d7cqKip8+SxTAqBp9wouJgwS/vIXZCvWxPsDe8XN1b+mBsBc5wH6Hfq6uro0dOhQXz8TwWIOIAAAgGVoAQMhlG9rmKofYIZMq4Jp9cJPBEAYy5T2r+kId4gCG9q/yQh8CBIBEAAMZMvcPxuDH2AC5gACAABYhgogkIFpq3+BKOGev0BwCIAAfPfKttTNh6uvYj6jDcIU/NZM/5lue+7moIcBuI4WMAAAgGWoAALwRbqqX6ZjqAgiV24sAFkz/WdZn6caiKggAAJpMP/PPbmEv2zvCzIM/t//M9jXu4FEeQWwae3fdKEv2/EEQYQdLWAAAADLUAEE4JlCK38milXlgrwvMM5WTOs33+pf8ntNqwLu2v9Y1mMuHTvHh5EgDAiAMNZPTr7N3UBCzO3wFztflOcFRrn1a5piwp9pcgl+yccSBBGdP88BAACQEyqAQBIWfyCT/lU6N9vBNlT/TFsAUqwg2sD5VPuynYcqoN0IgDBaLIzRCg6PKM37y8aNMBhk8Ot8+Om0r42cN8vHkRSmkPl/brd+/VgV7FboS3Xe48d6dPXFd3lyfpjNnt/UAAAAkEQFEEhA+7c4NlX/kiVX8jJVBE2t+qU6zo1KYNRav37yqvoHEAARCv2DmRftYIKf+cK2+te0OX25Br9U7wtDOzhqCH7wmr1/rgMAAFiKCiCsRuXPPV63f23YB9BUbraDgxSWvf+o/sEPBECETrHtYEKfu2ye9xcWhbZ/U52nkBAYW63r1lzAYu7+AeAMAiBCjTAHhMd3lm6L3IIQN7d/ofIHP/GnOwAAgGUIgAAA3xTbvqX9C7iDFjBgqF9VHM/7PV/t+pQHIwHOcGsRSKFzAgl/gHuoAAIAAFiGCiBgiEIqfqnOQRUQYZHrohAqf4D7CIBAwNwIfijenvGvxv897vdXenZuL84fZmEOd26uAAb8RgsYAADAMlQAgQB5Uf2LnTNqrWAv7gCSXJlLfr7QSl2686Z6PQzVQO4AAkQPARDW+d9LV2V8vbFloedj8KPty3zA1LKFs2zHpgts+Zw3TMIe/qRPWrVuBkEv2r+Xjp0jyb8NoWOfBzvRAgYAALAMFUBEWrZqX6b3+FEJ9FpU28GFcKtC53alr9h2M3J323M3F10FZOEHooIKICKrkPDnhyBW/YZ9pbEX8/9skm8bd+S8WfFH1Nz23M0Fhzi/wp8frVnavyAAAgAAWIYWMJDG/166KhJtYIRjgcae8a962gZOVc3rfPjpjK9HWa7t4Ki1fKn8IYYAiMhxs/UbpfmAYUTr11u2hb5kJoc7v1cEwz4EQBTtN9vX5nX8V66Y68k4vORGNTDs8/DCKAyVPyCTS8fOcS0EUv1Df8wBBAAAsAwVQBRs8y8f0aeGDM77fb/ZvjaUVUCkFmvTvrLN3b8nbWv/sg0M0sm1cpeuUkjlD6kQABEIQmD0XH3Vx66FQNvCH+AGgh7yQQsYAADAMlQAEZjY4hFbKoGxu3EEsRjErzuB9K/cFVINtLHyR+sXQBAIgAicm+1gU+/+YaPkMJcqENoY+CRCX5h99Z1b837Prz673oORAMWhBQwAAGAZKoAwgm3tYBvZVu2jyhc9hVT/+r+PSiBMQgCEUWxYHfzVrk+xKXREhSH03fk/n074+h+X5H83kORzJCvknCYrNPilOg8hEKagBQwAAGAZKoAwDu1guCVWkfPylnCmV/2yVetSvZ6ugpftXLkeF7UKYT5oB8MUBEAgAEFuCQP3mBz+cg1rbr83n/PbHASBoNECBgAAsAwBEJHS2LIwVOf12le7PuXbJtAmc7tSN+73V0a2+uenMIzTrQUgfp0XyBUtYEROLKy5sSm018GvfzijHRwOBD93mdoOJqAh6giAgCHc3h6Gyl+iYheEmBz8ACBftIABAAAsQwBEZBXbvg1i3p8bVTvm/WUWm7+XT0WP6p/3TGpf0/6FDWgBw1hu3BUkXYhLNz8wrIs9JFq+hSDYwWZT2h7QqeMfafvkZUEPBQGgAggAAGAZKoCwksmVPip5ALwwpe2BoIcAgxAAAQCIMIIfUqEFHCLbtm3T9OnTVVtbq5KSEm3atCnhdcdx1NzcrNraWg0ePFhTpkzRvn37Eo7p7e3VwoULNWLECA0ZMkQ33nijDh8+7ON3AQAAgkYADJETJ05o/PjxWr16dcrXV6xYoZUrV2r16tXatWuXqqurdd111+nYsWPxY5qamrRx40Zt2LBB27dv1/HjxzVt2jSdPn3ar28jL7/Zvla/2b426GEAgKt+9dn1vnwO1T+kQws4RBobG9XY2JjyNcdx9NBDD2nZsmWaOXOmJOmxxx5TVVWV1q9frzvvvFNdXV169NFHtW7dOl177bWSpCeeeEKjRo3Syy+/rOuvv9637wUATPWrz64P/VYwBD9kQwUwIg4cOKCOjg41NDTEnysrK9PkyZO1Y8cOSVJbW5tOnjyZcExtba3q6+vjxwAAgOijAhgRHR0dkqSqqqqE56uqqvTuu+/Gjxk0aJCGDRt21jGx96fS29ur3t7e+Nfd3d1uDRuAS0zaSBnp+dH6pfqHXBAAI6akpCTha8dxznouWbZjWlpadN9997kyPgAIg1hQc7MV7HX4I/ghH7SAI6K6ulqSzqrkdXZ2xquC1dXV6uvr09GjR9Mek8rSpUvV1dUVfxw6dMjl0QMAAD9RAYyIuro6VVdXq7W1VV/+8pclSX19fdq6dat++MMfSpImTJig0tJStba2atasWZKk9vZ27d27VytWrEh77rKyMpWVlXn/TcAan2o5N+sxx5d+5MNIouMfl8yiDWwov1b8AvkgAIbI8ePH9Yc//CH+9YEDB/S73/1OlZWVGj16tJqamrR8+XKNHTtWY8eO1fLly3Xeeefp1lvPtDAqKip0xx13aPHixRo+fLgqKyu1ZMkSjRs3Lr4q2DTF3gsY5sgl9KU7njCIoBS7IpjwB1MRAEPktdde09VXXx3/etGiRZKkOXPmaO3atbr77rvV09OjefPm6ejRo5o4caJeeukllZeXx9/z4IMPauDAgZo1a5Z6enp0zTXXaO3atRowYIDv3w+iL9/Ql+t5CISp/eOSM5V9KoHu6h/icgmDQYQ+5v8hXwTAEJkyZYocx0n7eklJiZqbm9Xc3Jz2mHPPPVerVq3SqlWrPBghAAAIAwIgAE+4Vf3LdG4qgamFcT5grHppOlq6iAoCIIzF/D9kwzzB9NIFqnTBMIyhEUDh2AYGAADAMiVOpkllQArd3d2qqKjQ5l8+ok8NGez6+an8hZuXrd9sqAK6w89KYFhav2FQyEKQU8c/0vbJy9TV1aWhQ4d6MCqYihYwkKTy3r8667n373swgJEAwegfymgLA9FECxgAAMAyVABhFL/bv6mqfbkcR0UwtSDbv/0/n1awe7xcHEL7FwgOARCBC2LOX67BL5f3Ewbt8KXP/pecj33jncc9HIn/3G4JE/yA4NECBgAAsAwVQATG1HYvEJNP1S/5fVGrAsawX6C5tkxYLInbwiE3BEAUbOr135Yk/Wb72rzeF8aWb7ZzR6kN/L9GLD3ruf/+XksAIwlWoeHPBsXcc5j2L2AGWsAAAACWoQKIovWv6KWrBrK5M8KE6l9ucl0cQtXPX1smLKYNjKy4EwjyFrsTSBj4Pe8vCq3gVC1gKbc2cNDbwMQUug2Mm8EviDmA+8cvPOu5sb9f5fs4YKZUoZA7gdiLFjAAAIBlqAAib2GpAAax6teNCuBvN23K+PrFM2YU/RleMqEKWEgF0Ku2r5eVwFQVv3SoBBbuV8t/78p5vnrPeFfO4wUqgPZhDiBgkGzhL/kY08Og30y8A4gXW8LkE/xSvYcwmJ1boS/5nCaHQNiFFjAip/Levwpsz79iPjeX8BcGx5d+FEgQMzH8eaGQ8JfqHG6cB/n71fLfexIugXwRAAEAACzDHEDkzeQ5gCbc7SPfeYBuVf5MbAf7MR+w2Mqf11u+mND+zYR28Nn8rNCZ0hJmDqB9mAMIwDOxcOZ2ELSl3dsfLVvvBdGa7f+ZpoRB2IEWMAAAgGWoAAIR8dtNm4xsA0uJFbtCq4E2Vv1iqP7ZIVYNpBIIPxAAgQBFZeVvPmwLcl5sAwP3mbQyl+1i4AdawAAAAJYhAAIAAFiGFjAiwYTtX4Awis0vtHU7GJNav/15NR/wyyc/lCTtLj3P1fMifKgAAgAAWIYKIAB4iAUgMEWs+tf/36e7u/X68OqghoQAUQEEAMBQpraoEX4EQAAAAMsQAAEX5XsfYMAUbDYdXV8++WFC+xeQCICIiPfvezCU4cvNO3eYehcQW73xzuOuzf/za4Xu/vELCYIRtLv0vJSrfneXnsf8P4uxCAQIWCy42XhXEOQuFgL9CGjJn2HrFjFRw9Yv6I8KIAAAgGWoACJS3r/vQes2hab1a56obf1CRRCIHgIgXNf251kZX59Q+7RPI/GPG/MPL54xI+c2MKHPHV/67H9x9Xx+BL+xv18V+Dy9/p9PGATCiRYwAACAZUocx3GCHgTCpbu7WxUVFSlfy1b968/rSqBfrWAvVx/HKoJU/NzlduVPCqbtG3QlUAp/BdD0jZbdvhdwOl1dXRo6dKgvnwUzEACRt1QBMJ/gl8yPlrCXYTCM28/YyIvQJwU/38+EECiFNwgSAM8gANqHFjAAAIBlqAAib8kVwGKqf8m8rAZ6UQWk+hcOYVzska+gK4FhrQDGmFoJpAIIr7AKGAXb+tbX9Kny0qCHkbP+Ya3YMEjwCwev2r6A1/wKfrAXLWAAAADL0AJG3mItYK8qgH7uE5hPJZCqX7hEddFHJkG2gcPeApbMaQMHUf2jBWwfKoCwWq6hjvAXLrR+/Rf0HMQo+Oo942n9wjcEQAAAAMuwCATWS3f/YKp+ufl1zS05HXd5+794PBIqf7E2LNW4wsSqb0G0gv2q/NWMnZLw9cenT+nf3t7uy2fDLARAQOELexs+Myzta1//01HPPz/X0JfqPX4EQS+YPPcP7vrqPeN9CYF+hL7kwAfEEACBEMgU+DId60UYLCT8Jb/fixBoe/UP7vK6Guh1+CP4IRvmAAIAAFiGCiBgsHwqf5ne70YlsNjKX6pzhbUdbLqxv1/FPECXFFqpS1U5DGqeH5AKARAwVLHhz01uhj/ABkFs50LwQz5oAQMAAFiGAAij+HkXEJuYVE3sLyyVRVYAw3RU/5AvAiAAoGhRuBUcYBMCIAAAgGVYBAIYxot2baGrgP1o0bq1IviNdx5nL8B+uCuIPWj/ohAEQBiBuX/e2vCZYb7cISRqmPuXHa3f4BD8UAxawAAAAJYhACJwVP8A73hZoaP6FxyqfygWLWAEhuB3NpO2a/FrixY37wYSa9m6MRcwSu1ft+4MQuALHsEPbqECGCLbtm3T9OnTVVtbq5KSEm3atCnh9blz56qkpCThcdlllyUc09vbq4ULF2rEiBEaMmSIbrzxRh0+fNjH7wIAAASNCmCInDhxQuPHj9dtt92mm266KeUxN9xwg9asWRP/etCgQQmvNzU16bnnntOGDRs0fPhwLV68WNOmTVNbW5sGDBiQ13gmf36jJKntz7Py/E6o/sFbha4IjlLVL1n/6l0+1UCqfuag+gc3EQBDpLGxUY2NjRmPKSsrU3V1dcrXurq69Oijj2rdunW69tprJUlPPPGERo0apZdfflnXX399QeOaUPt0XiGQ8Oc/G1cA5xsCoxz+kqULg0GEvbeu/ouUz3/+lbd9Hom5CH7wAi3giNmyZYtGjhypCy+8UN/61rfU2dkZf62trU0nT55UQ0ND/Lna2lrV19drx44dQQwXAAAEgApghDQ2Nurmm2/WmDFjdODAAf3t3/6tpk6dqra2NpWVlamjo0ODBg3SsGGJCw2qqqrU0dGR9ry9vb3q7e2Nf93d3X3WMVT13PH1Px01aiFI2NlU1SuU31W/dBW/dMfZXgmk+gevEAAjZPbs2fF/19fX65JLLtGYMWP0/PPPa+bMmWnf5ziOSkpK0r7e0tKi++67z9WxArBHrqEPnyD4wWsEwAirqanRmDFjtH//fklSdXW1+vr6dPTo0YQqYGdnpyZNmpT2PEuXLtWiRYviX3d3d2vUqFHeDdxysfl6blQCbZz7Z6rbFp3963bNylMBjCRc3rr6L6yrAhL+4AfmAEbYkSNHdOjQIdXU1EiSJkyYoNLSUrW2tsaPaW9v1969ezMGwLKyMg0dOjThAQAAwosKYIgcP35cf/jDH+JfHzhwQL/73e9UWVmpyspKNTc366abblJNTY3eeecd3XPPPRoxYoS+9rWvSZIqKip0xx13aPHixRo+fLgqKyu1ZMkSjRs3Lr4qGOZgPmC4pKrw5fOeqFYDaf/mjsof/EQADJHXXntNV199dfzrWFt2zpw5euSRR7Rnzx49/vjj+uCDD1RTU6Orr75aTz31lMrLy+PvefDBBzVw4EDNmjVLPT09uuaaa7R27dq89wCEP4ppB9P+9V4hoS/TuaIaApEd4Q9+IwCGyJQpU+Q4TtrXf/nLX2Y9x7nnnqtVq1Zp1So2dwUAwFYEQCAE8mkHh6ny5+Z9gP3kZuUPAILAbzEgJPoHu/5hMEyBLwq8DH+xc9MKBuA1VgEDAABYhgogjDP1r76T9ZjND/6DDyMxF1U//9H2zQ+rf3PD4g8Ehd9oCFwugS/Te2wPg2EUtrl/hL/g+LUJ9D1PX5TTcctn7fN4JIA/aAEDAABYhj9rEYhCqn6A36j8RV+ulb/k492qBLbv3yKJVjD8x283hN7Uv/qOr23gwV0/TftaT8Xtvo3DK7+uuSXoIRiB8Bdt+Qa/VO8Pezs4Fj5hJ1rAAAAAluFPXPguTO3fTNW+dMdHoQpoO6p/xYst3ih0NbBXiz+KrfwlnytsVUCqfojhtxx842Xwi53bzVZwvuEv+X1hDIK0f+G2z7/ytjFbwrgZ/sKI8If+CIBAkkKDX6rzhCkE+hn+Yp8Vtu1gUJhcq4F+bfliovb9WzxbCELwQyrMAQQAALAMFUD4wq95f8WuCHar+pd8vjBVAm3G3D9vpWoH+1H1s7n1S/UP6fDbDpD7wS9MmPf3iTUrT0kiCHrJ5jZvNm7uCUjwQza0gAEAACzDn7nwVJi2fPFS2BaEIBixCiTslly9y6UiSMUP+SIAAhaj/YtCfG5GZV7H/3HT+x6NxA6EO3iBFjAAAIBlqADCen4tAGFF8CfY/+9sJrd/8634ZXp/lKqBYbsLCNAfARCeYf6fuWj9msPk4CcVH/5SnS9KIRAIK1rAAAAAlqECCAABMbn653blL9W5/aoExlq1Nm8IDSQjAAKWCbr9G4b5f2tWnvJsM2iTQ1+Ml+Ev+XNoBwPBoAUMAABgGSqAiJRC7gPcU3G71beCg7fCUPGL8avyl+ozqQQC/iIAAoDLwhT6bLJ81j7X5gGyBQzCjgAIWCLouX9hkxzi+s8JJOC5z6/5gP2DWyFh0M3g98I3a3M67j+t+7NrnwnEMAcQAADAMlQAEQmFzP2Dv8Kw+jeTqFf9gpj/F7Tkal66imAQVb9U76ESCDcRABF6hD8gGoJeEOLVvL5CQl+68xAC4RZawAAAAJYpcRzHCXoQCJfu7m5VVFTkdKzX9wN2q/rnxzYwPRW3e/4ZuQhqMUjYW8BRZWLrN0pbwrhV/UvmdiWwq6tLQ4cOdfWcMBstYHgqFtDcDoJut31j4Yz9AAG4wavgB7iFFjAAAIBlCIDwhZsVuzAu+jCl/SsF04ql/Qub+FH9o8KIYtEChm8yBbdsLWK/Qh+3hXMXwQ82IZQhTKgAAgAAWIYKIIwQxrZuLkxq/fYXq8x5uSKY6h8AmIsACCRxa0WwqeHPawQ/FMuv+wK7KYj2L3cIQTFoAQMAAFiGAAikUWgFr6fi9tBU/9yu1lH9C58/bno/dNU2AMWjBQxkEJYgB0RN0PcFBqKOAAhYrn/VrpBFITZU/a5cfnPa116952c+jgQA3EELGAAAwDJUAAHEJVfzYhVB26t8+b4vTFXBWKsVgF0IgADSinrwKzT05XveMAVCUzD3D/AWLWAAAADLUAEEYBWvqn7ZPpMqINzGBtAoBhVAAPDBlctvDiR8hhHtX8B7BEAAAADLlDiO4wQ9CIRLd3e3Kioqgh4GkBeTqm8mtoNNWg0c1gqgn/cDdrv929XVpaFDh7p6TpiNOYAAACOENfgBYUQLGAAAwDK0gJE3WsAIG5Pav/2Z1goOsg0cpeqfl61gr1b+0gK2Dy1gAJFlavAzVSyEmTQfEJ9wO/x94/7V6vuoR0///V+7el6EAy1gAAAAy1ABBAAk+OOm932rAkap9RvTv1JXaDvY602ev3H/ak/PD/MRAAEAZ0kVzLKFwmxhLvZ+v0PfT194Lf7v2//TJb5+drYwyN08EBRawAAAAJahAggAyEmxlTs/K3/9q37png+yGhgUWr+IIQACACIlXfjLdJzfYRAIGi3gkGhpadGll16q8vJyjRw5UjNmzNBbb72VcIzjOGpublZtba0GDx6sKVOmaN++fQnH9Pb2auHChRoxYoSGDBmiG2+8UYcPH/bzWwEAT/z0hddyDn82ovqH/giAIbF161bNnz9fO3fuVGtrq06dOqWGhgadOHEifsyKFSu0cuVKrV69Wrt27VJ1dbWuu+46HTt2LH5MU1OTNm7cqA0bNmj79u06fvy4pk2bptOnTwfxbQEAgADQAg6JF198MeHrNWvWaOTIkWpra9NVV10lx3H00EMPadmyZZo5c6Yk6bHHHlNVVZXWr1+vO++8U11dXXr00Ue1bt06XXvttZKkJ554QqNGjdLLL7+s66+/3vfvqxD/8z//17OeW/LkPwcwEhRr0bRTWvkLfg2heMVW/n76wmu0gWEVfvOGVFdXlySpsvLMtgoHDhxQR0eHGhoa4seUlZVp8uTJ2rFjh+688061tbXp5MmTCcfU1taqvr5eO3bsSBsAe3t71dvbG/+6u7vbi28po1ShL93rhEEzLZp2Kufn3QqFsVutcUcQAEhECziEHMfRokWLdMUVV6i+vl6S1NHRIUmqqqpKOLaqqir+WkdHhwYNGqRhw4alPSaVlpYWVVRUxB+jRo1y89sBAAA+owIYQgsWLNDrr7+u7du3n/VaSUlJwteO45z1XLJsxyxdulSLFi2Kf93d3W10CIxVA6kEBi9d1S+X90W5NRyrTAJAUKL7GzaiFi5cqGeffVbbtm3TBRdcEH++urpa0pkqX01NTfz5zs7OeFWwurpafX19Onr0aEIVsLOzU5MmTUr7mWVlZSorK3P7W8lJttZvtvcSAv1VaODLdq5iw+Cr9/yMNjAyYv4fbEMLOCQcx9GCBQv0zDPPaPPmzaqrq0t4va6uTtXV1WptbY0/19fXp61bt8bD3YQJE1RaWppwTHt7u/bu3ZsxAAIAgGihAhgS8+fP1/r16/Xzn/9c5eXl8Tl7FRUVGjx4sEpKStTU1KTly5dr7NixGjt2rJYvX67zzjtPt956a/zYO+64Q4sXL9bw4cNVWVmpJUuWaNy4cfFVwVET5nbw2p3zEr6ee9nDAY0keG5WAxEt7PsHFIbfpCHxyCOPSJKmTJmS8PyaNWs0d+5cSdLdd9+tnp4ezZs3T0ePHtXEiRP10ksvqby8PH78gw8+qIEDB2rWrFnq6enRNddco7Vr12rAgAF+fSs5K6b9GybJQS+X40wMg262f7N9TiEh0JQVwcz/A2ACAmBIOI6T9ZiSkhI1Nzerubk57THnnnuuVq1apVWrVrk4OgAAECYEQFjBtAUhuVb9sr3fhEqgX5W/VJ9JOxjI3RPLFnA7OMSxCATwWbHhz6tzhVEh4TOoFuyr9/yM9i8AYxAAAQAALFPi5DK5DOinu7tbFRUVnn+OV4tAgmoFe12tC6odHEQLOJVC2sF+Lgih+uetYlcD27YPYKwV3PdRj57++79WV1eXhg4dGvCo4Ccm0AAREcS8QFPCn1TY6mC/Nogm/JnLtuAX88SyBUEPAQGjAoi8+VUBlKJTBfRzrp6tAVAqflGIm2GQ0Oe/fKuAtoa/VKgA2oc5gAAAAJahBQx4KIhVuiZtEeO3YreHyVS1S1cdpNJnjlhFL1MlkKofcAYtYOQtCi3gGK9bwUFv0+J1CDStBdwfewTarX8IJPRlRwvYPrSAAQAALMOfyDBarEJny32BAbiDqh+QGQEQVjLptnAAAPiNFjAAAIBlCIAo2Ddef1K3H9io2w9sDHooSGPtznmeLkQxeaGFyQtUgGR/N31N0EOAZcz97Y1Q6R8Cf1r3NdfOy9w/88VCIIELyC5T0MsWAr/33G1uDwcWowIIAABgGSqAcF2sGuhmJdBNLAABEIRi27z93081EMUiAMIztx/YaGQITNVWJhQWb+UvBtIGDrF7tC6n45brmx6PJFq8mtv3d9PXEAJRFFrAAAAAlqECCOiTqqDblcDYrdiCviWcrYq9N3DU5Vr1y/U9VAc/wapemI7fivBUsfMBuRNIuJjWBib4pVZI8CvmvLYFQ7/CX+xzaAWjEPx2hC9MnQ8I97EtjNm8Cn9efWaYwmNQVT/mA6IQzAEEAACwDAEQocAq3fCh/WqWe7QukOpfscIyZub8IWwIgAA8s/IXAwMLggTQT4QlRKVjcnj9u+lrjAh/JowB4UIABAAAsAx/IsM3Nq8InnvZw4FsBRPbhgb++tHuXyd8Pf/Llwc0kmiJVQHDtDDET6wKRj4IgAidJU/+s+sh0I85hjbvCej39jB+tn+Tw162YwiDxevfDg4yDNJ2RZjRAgYAALAMARDQmbayX61lW9uyfiwI8XvRSS7VPzfeg/RMXiACmIwACMBXXgU0v4NfMUGu2Pfng3BkH1rTyAUBEAAAwDIsAoHvTLwtnN8bTfuxIMTkVrObt4vze78/Nyt3P9r9axaFAAgEARCh5OaWMNxlJDjJ4S3XQBilTZ5jgZIgCMBPtIABAAAsE50/oxEaJrV/g67+ebFBtMmt32yiVNkDAJNRAUSoFRrgljz5z4GHv5i5lz3sWmgLc/gDAPiHP7cReslBLt28QFMCXzrFVgMJf+Hm1YKQ5fpmpLeC4bZwQGGoAAIAAFiGCiB849fcPz8qfX99/7isx/yPZXvyPm+6Kl7/yiCVPuQr6lVAAPmjAghfmLTwo1i5hL98jstFbJ4g4Q8wx/eeuy3oIaRk6rhgFgIgAACAZWgBAzkqpKIXe08h7WDATbHFErSC3RWrtnH/XYQNARCeikrrt9h27l/fP44QiIy4E0j+WAGciNYv8kELGAAAwDJUAOGZqFT/gChhRbA3+lffaAcjDAiAcBWhLz3mAwLuML31+73nbvM9BNL+Rb5oAQMAAFimxHEcJ+hBIFy6u7tVUVER9DB84eZefjFUAMPvR7t/7dq5glz8EcZWsOnVv1S8qga6WfXr6urS0KFDXTsfzEcLGAAQCmEMf1LqoJZPKKS9Cy/QAgYAALAMFUAAyFOsbVtsKzjovf/6V9RMbgeHtfKXCVU9BI0ACAAwLgxGMfQBJqEFDAAAYBkqgIBPTFn9+7WV+7Rx0UVBDyMS5n/58oLawEG3frPJtfrmZqWQih/gLwIgYBnCn7v6h7lcwqDp4S8fmUJbpnBI2AOCRwAEfGBK9Q/eyhQGoxT8ckHIA8zGHEAAAADLUAEEAA/YVvEDEC7cCg55s+lWcDGF3hKO1i+AMOBWcPahBQwAAGAZAiAAAIBlCIAh0dLSoksvvVTl5eUaOXKkZsyYobfeeivhmLlz56qkpCThcdlllyUc09vbq4ULF2rEiBEaMmSIbrzxRh0+fNjPbyWUCmnl0v4FAJiKABgSW7du1fz587Vz5061trbq1KlTamho0IkTJxKOu+GGG9Te3h5/vPDCCwmvNzU1aePGjdqwYYO2b9+u48ePa9q0aTp9+rSf3w4AAAgQi0BC6t///d81cuRIbd26VVdddZWkMxXADz74QJs2bUr5nq6uLp1//vlat26dZs+eLUn685//rFGjRumFF17Q9ddfn9Nn27gIpL9sC0Ko/IXLDWWlBb/3xd6TLo7EfOvn/6+C3nfrj/67yyOJnuH3f9LRObLs875/PotA7MM2MCHV1dUlSaqsrEx4fsuWLRo5cqQ+/elPa/Lkybr//vs1cuRISVJbW5tOnjyphoaG+PG1tbWqr6/Xjh070gbA3t5e9fb2xr/u7u52+9sJFZMD3hP/cXHC1994/YGARmK2YkJfLueJWjAsNPilej9h8Iz+gS/ba0EEQkQfLeAQchxHixYt0hVXXKH6+vr4842NjXryySe1efNmPfDAA9q1a5emTp0aD28dHR0aNGiQhg0blnC+qqoqdXR0pP28lpYWVVRUxB+jRo3y5hsDAAC+oAUcQvPnz9fzzz+v7du364ILLkh7XHt7u8aMGaMNGzZo5syZWr9+vW677baEap4kXXfddfrc5z6nH//4xynPk6oCSAg0R3LVL5tvvP5AyvdEvVroVtUvV1GpAhZb/UvF1ipgpqpfLrysBNICtg8t4JBZuHChnn32WW3bti1j+JOkmpoajRkzRvv375ckVVdXq6+vT0ePHk2oAnZ2dmrSpElpz1NWVqaysjJ3vgG4Kt/wl+k9seejGAT9Dn9R4EXwSz63LUGw2ODX/zy0g+EWWsAh4TiOFixYoGeeeUabN29WXV1d1vccOXJEhw4dUk1NjSRpwoQJKi0tVWtra/yY9vZ27d27N2MABAAA0UILOCTmzZun9evX6+c//7k+//lP/gKsqKjQ4MGDdfz4cTU3N+umm25STU2N3nnnHd1zzz06ePCg3nzzTZWXl0uSvv3tb+sXv/iF1q5dq8rKSi1ZskRHjhxRW1ubBgwYkNNYurq69OlPf9qLbxM5+slFCzz/jP+2b7Xnn+G1awcF3+R4ue9U0EPI2z9/64e+fM5//ae/8eVzgjTsb9s8Oe/Rv5/g6vk++OADq3d3sJKDUJCU8rFmzRrHcRznww8/dBoaGpzzzz/fKS0tdUaPHu3MmTPHOXjwYMJ5enp6nAULFjiVlZXO4MGDnWnTpp11TDZ//OMf046HBw8ePHiE73Ho0CG3/rtCSFABRN4++OADDRs2TAcPHuQvxjRiC2UOHTrExOo0uEbZcY0y4/pkl+0aOY6jY8eOqba2Vuecw6wwmwTfH0HoxH5JVFRU8Es3i6FDh3KNsuAaZcc1yozrk12ma8Qf8nYi7gMAAFiGAAgAAGAZAiDyVlZWpnvvvZe9ATPgGmXHNcqOa5QZ1yc7rhHSYREIAACAZagAAgAAWIYACAAAYBkCIAAAgGUIgAAAAJYhACJvDz/8sOrq6nTuuedqwoQJevXVV4MeUiCam5tVUlKS8Kiuro6/7jiOmpubVVtbq8GDB2vKlCnat29fgCP23rZt2zR9+nTV1taqpKREmzZtSng9l2vS29urhQsXasSIERoyZIhuvPFGHT582MfvwlvZrtHcuXPP+rm67LLLEo6J8jVqaWnRpZdeqvLyco0cOVIzZszQW2+9lXCM7T9HuVwj23+OkB0BEHl56qmn1NTUpGXLlmn37t268sor1djYqIMHDwY9tEBcdNFFam9vjz/27NkTf23FihVauXKlVq9erV27dqm6ulrXXXedjh07FuCIvXXixAmNHz9eq1evTvl6LtekqalJGzdu1IYNG7R9+3YdP35c06ZN0+nTp/36NjyV7RpJ0g033JDwc/XCCy8kvB7la7R161bNnz9fO3fuVGtrq06dOqWGhgadOHEifoztP0e5XCPJ7p8j5CC42xAjjL7yla84d911V8JzX/jCF5zvfve7AY0oOPfee68zfvz4lK99/PHHTnV1tfODH/wg/txHH33kVFRUOD/+8Y99GmGwJDkbN26Mf53LNfnggw+c0tJSZ8OGDfFj/vSnPznnnHOO8+KLL/o2dr8kXyPHcZw5c+Y4f/mXf5n2PbZdo87OTkeSs3XrVsdx+DlKJfkaOQ4/R8iOCiBy1tfXp7a2NjU0NCQ839DQoB07dgQ0qmDt379ftbW1qqur09e//nW9/fbbkqQDBw6oo6Mj4VqVlZVp8uTJ1l6rXK5JW1ubTp48mXBMbW2t6uvrrbpuW7Zs0ciRI3XhhRfqW9/6ljo7O+Ov2XaNurq6JEmVlZWS+DlKJfkaxfBzhEwIgMjZe++9p9OnT6uqqirh+aqqKnV0dAQ0quBMnDhRjz/+uH75y1/qn/7pn9TR0aFJkybpyJEj8evBtfpELteko6NDgwYN0rBhw9IeE3WNjY168skntXnzZj3wwAPatWuXpk6dqt7eXkl2XSPHcbRo0SJdccUVqq+vl8TPUbJU10ji5wjZDQx6AAifkpKShK8dxznrORs0NjbG/z1u3Dhdfvnl+tznPqfHHnssPtmaa3W2Qq6JTddt9uzZ8X/X19frkksu0ZgxY/T8889r5syZad8XxWu0YMECvf7669q+fftZr/FzdEa6a8TPEbKhAoicjRgxQgMGDDjrr8POzs6z/hq30ZAhQzRu3Djt378/vhqYa/WJXK5JdXW1+vr6dPTo0bTH2KampkZjxozR/v37JdlzjRYuXKhnn31Wr7zyii644IL48/wcfSLdNUrF1p8jpEcARM4GDRqkCRMmqLW1NeH51tZWTZo0KaBRmaO3t1dvvvmmampqVFdXp+rq6oRr1dfXp61bt1p7rXK5JhMmTFBpaWnCMe3t7dq7d6+11+3IkSM6dOiQampqJEX/GjmOowULFuiZZ57R5s2bVVdXl/A6P0fZr1Eqtv0cIQfBrD1BWG3YsMEpLS11Hn30UeeNN95wmpqanCFDhjjvvPNO0EPz3eLFi50tW7Y4b7/9trNz505n2rRpTnl5efxa/OAHP3AqKiqcZ555xtmzZ49zyy23ODU1NU53d3fAI/fOsWPHnN27dzu7d+92JDkrV650du/e7bz77ruO4+R2Te666y7nggsucF5++WXnt7/9rTN16lRn/PjxzqlTp4L6tlyV6RodO3bMWbx4sbNjxw7nwIEDziuvvOJcfvnlzmc+8xlrrtG3v/1tp6KiwtmyZYvT3t4ef3z44YfxY2z/Ocp2jfg5Qi4IgMjbj370I2fMmDHOoEGDnIsvvjhh6wGbzJ4926mpqXFKS0ud2tpaZ+bMmc6+ffvir3/88cfOvffe61RXVztlZWXOVVdd5ezZsyfAEXvvlVdecSSd9ZgzZ47jOLldk56eHmfBggVOZWWlM3jwYGfatGnOwYMHA/huvJHpGn344YdOQ0ODc/755zulpaXO6NGjnTlz5pz1/Uf5GqW6NpKcNWvWxI+x/eco2zXi5wi5KHEcx/Gv3ggAAICgMQcQAADAMgRAAAAAyxAAAQAALEMABAAAsAwBEAAAwDIEQAAAAMsQAAEAACxDAAQAALAMARAAAMAyBEAAAADLEAABAAAsQwAEAACwDAEQAADAMgRAAAAAyxAAAQAALEMABAAAsAwBEAAAwDIEQAAAAMsQAAEAACxDAAQAALAMARAAAMAyBEAAAADLEAABAAAsQwAEAACwDAEQAADAMgRAAAAAyxAAAQAALEMABAAAsAwBEAAAwDIEQAAAAMsQAAEAACzz/wFDQfGRekxjIgAAAABJRU5ErkJggg==\"></img>\n",
       "</td>\n",
       "<td style=\"text-align: center; vertical-align: top;\">\n",
       "\n",
       "<table>\n",
       "<tr><td>shape</td><td>(254,&nbsp;256)</td></tr>\n",
       "<tr><td>dtype</td><td>int32</td></tr>\n",
       "<tr><td>size</td><td>254.0 kB</td></tr>\n",
       "<tr><td>min</td><td>0</td></tr><tr><td>max</td><td>63</td></tr>\n",
       "</table>\n",
       "\n",
       "</td>\n",
       "</tr>\n",
       "</table>"
      ],
      "text/plain": [
       "StackViewNDArray([[0, 0, 0, ..., 5, 5, 5],\n",
       "                  [0, 0, 0, ..., 5, 5, 5],\n",
       "                  [0, 0, 0, ..., 5, 5, 5],\n",
       "                  ...,\n",
       "                  [0, 0, 0, ..., 0, 0, 0],\n",
       "                  [0, 0, 0, ..., 0, 0, 0],\n",
       "                  [0, 0, 0, ..., 0, 0, 0]])"
      ]
     },
     "execution_count": 6,
     "metadata": {},
     "output_type": "execute_result"
    }
   ],
   "source": [
    "stackview.insight(cp_labels)"
   ]
  }
 ],
 "metadata": {
  "kernelspec": {
   "display_name": "Python 3 (ipykernel)",
   "language": "python",
   "name": "python3"
  },
  "language_info": {
   "codemirror_mode": {
    "name": "ipython",
    "version": 3
   },
   "file_extension": ".py",
   "mimetype": "text/x-python",
   "name": "python",
   "nbconvert_exporter": "python",
   "pygments_lexer": "ipython3",
   "version": "3.11.9"
  }
 },
 "nbformat": 4,
 "nbformat_minor": 5
}
