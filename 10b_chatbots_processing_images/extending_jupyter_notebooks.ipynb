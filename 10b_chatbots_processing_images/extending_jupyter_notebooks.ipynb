{
 "cells": [
  {
   "cell_type": "markdown",
   "id": "2870e834-0e8c-4b6b-a5ef-77b23ba9434a",
   "metadata": {
    "tags": []
   },
   "source": [
    "# Extending Jupyter Notebooks\n",
    "In this notebook we will learn how we can use Python code to modify cells in the Jupyter notebook we are executing right now.\n",
    "\n",
    "All we need is implemented in [IPython](https://ipython.org/)."
   ]
  },
  {
   "cell_type": "code",
   "execution_count": 1,
   "id": "458839dc-f11f-4f1c-802b-ce5c39867282",
   "metadata": {
    "tags": []
   },
   "outputs": [],
   "source": [
    "import IPython"
   ]
  },
  {
   "cell_type": "markdown",
   "id": "4ba9db3c-c859-4daa-8d69-c598ae03fdc4",
   "metadata": {
    "tags": []
   },
   "source": [
    "## Adding cells\n",
    "First we setup a function that can add a new cell to our jupyter notebook."
   ]
  },
  {
   "cell_type": "code",
   "execution_count": 2,
   "id": "ff72cc59-9b59-4c5e-ac7f-7a518832159c",
   "metadata": {
    "tags": []
   },
   "outputs": [],
   "source": [
    "def add_code_cell_below(code, execute_code:bool=False):\n",
    "    \"\"\"\n",
    "    Add a new code cell to the currently running Jupyter Notebook.\n",
    "    Optional: Execute the code\n",
    "    \"\"\"\n",
    "    from IPython.core.getipython import get_ipython\n",
    "\n",
    "    p = get_ipython()\n",
    "\n",
    "    p.set_next_input(code, replace=False)\n",
    "    if execute_code:\n",
    "        p.run_cell(code)"
   ]
  },
  {
   "cell_type": "code",
   "execution_count": 3,
   "id": "539d39d3-1dbc-43a4-a4e9-8fd6d10bd7e6",
   "metadata": {
    "tags": []
   },
   "outputs": [],
   "source": [
    "add_code_cell_below(\"print('Hello World')\")"
   ]
  },
  {
   "cell_type": "code",
   "execution_count": null,
   "id": "a423a376-a833-4cd4-948f-9a4b7cc5f910",
   "metadata": {},
   "outputs": [],
   "source": [
    "print('Hello World')"
   ]
  },
  {
   "cell_type": "markdown",
   "id": "2ecd9dfb-a699-4cd6-a418-b461fe6b50d5",
   "metadata": {},
   "source": [
    "## Jupyter Magics\n",
    "Next, we introduce a new Jupyter magic, that allows us to handle text in Jupyter cells when the user hits SHIFT+ENTER."
   ]
  },
  {
   "cell_type": "code",
   "execution_count": 4,
   "id": "d96d20e9-c0b9-4ae7-9821-bf9c70b67af8",
   "metadata": {
    "tags": []
   },
   "outputs": [],
   "source": [
    "from IPython.core.magic import register_line_cell_magic\n",
    "\n",
    "@register_line_cell_magic\n",
    "def alice(line: str = None, cell: str = None):\n",
    "    print(\"You said: \", line, \"and\\n\", cell)"
   ]
  },
  {
   "cell_type": "code",
   "execution_count": 5,
   "id": "55c7bfb1-68b1-4ee3-8889-777a8c5f99d9",
   "metadata": {
    "tags": []
   },
   "outputs": [
    {
     "name": "stdout",
     "output_type": "stream",
     "text": [
      "You said:  Hello world! and\n",
      " None\n"
     ]
    }
   ],
   "source": [
    "%alice Hello world!"
   ]
  },
  {
   "cell_type": "code",
   "execution_count": 6,
   "id": "72b23e99-e992-401c-9248-4cc4f05d861d",
   "metadata": {
    "tags": []
   },
   "outputs": [
    {
     "name": "stdout",
     "output_type": "stream",
     "text": [
      "You said:  My name is Robert. and\n",
      " How are you?\n",
      "\n"
     ]
    }
   ],
   "source": [
    "%%alice My name is Robert.\n",
    "How are you?"
   ]
  },
  {
   "cell_type": "markdown",
   "id": "1a287a02-7c66-4829-855a-ffaea8c94a03",
   "metadata": {
    "tags": []
   },
   "source": [
    "## Exercise\n",
    "Go back to our [chatbot exercise](https://github.com/ScaDS/BIDS-lecture-2024/blob/main/06_chatbots/02_chatbot.ipynb) and implement a chatbot using the Jupyter interface. \n",
    "* After the user entered a question, e.g. `%alice What is the captial of France ?`, Alice will respond and add a new cell below her response that contains `%alice` already so that the conversation can continue.\n",
    "\n",
    "Note: There is a _bug_ in Jupyter magics regarding asking questions: If you enter a ? behind a word, it will not work. Enter a space before the ? and it will work."
   ]
  },
  {
   "cell_type": "code",
   "execution_count": null,
   "id": "cb43d0f0-5aa2-4f8d-b455-423a41eeb23a",
   "metadata": {
    "tags": []
   },
   "outputs": [],
   "source": [
    "%alice what is the capital of france ?"
   ]
  },
  {
   "cell_type": "code",
   "execution_count": null,
   "id": "2567f69e-b138-4580-823e-7d9899483f00",
   "metadata": {},
   "outputs": [],
   "source": []
  },
  {
   "cell_type": "markdown",
   "id": "3b212a10-ebc6-455a-aee5-6c33c0877633",
   "metadata": {},
   "source": [
    "## Exercise\n",
    "Allow `%alice` to call functions and process images. E.g. you ask her `%alice Load blobs.tif, segment it and show the result.`"
   ]
  },
  {
   "cell_type": "code",
   "execution_count": null,
   "id": "10470392-31c4-49c5-a204-d8b13722a63f",
   "metadata": {},
   "outputs": [],
   "source": []
  }
 ],
 "metadata": {
  "kernelspec": {
   "display_name": "Python 3 (ipykernel)",
   "language": "python",
   "name": "python3"
  },
  "language_info": {
   "codemirror_mode": {
    "name": "ipython",
    "version": 3
   },
   "file_extension": ".py",
   "mimetype": "text/x-python",
   "name": "python",
   "nbconvert_exporter": "python",
   "pygments_lexer": "ipython3",
   "version": "3.9.19"
  }
 },
 "nbformat": 4,
 "nbformat_minor": 5
}
