{
 "cells": [
  {
   "cell_type": "markdown",
   "id": "0220c9fc-c7d7-4374-830b-017ba97a9d86",
   "metadata": {},
   "source": [
    "# Breaking dependencies\n",
    "\n",
    "This notebook will most likely not work anymore. Find out why.\n",
    "\n",
    "Propose two solutions for fixing it:\n",
    "* By changing the code in the notebook\n",
    "* By not changing the code in the notebook"
   ]
  },
  {
   "cell_type": "code",
   "execution_count": 10,
   "id": "9e0914d7-1535-448c-bdd1-6c124a88df0e",
   "metadata": {
    "tags": []
   },
   "outputs": [],
   "source": [
    "from skimage.filters import median\n",
    "import numpy as np"
   ]
  },
  {
   "cell_type": "code",
   "execution_count": 11,
   "id": "4ffbb528-0df7-4c88-82cb-780e97c1532d",
   "metadata": {
    "tags": []
   },
   "outputs": [],
   "source": [
    "image = np.asarray([\n",
    "    [1, 1, 1, 2, 2],\n",
    "    [1, 1, 2, 2, 2],\n",
    "    [1, 1, 1, 2, 2],\n",
    "    [1, 1, 1, 1, 2],\n",
    "    [1, 1, 1, 2, 2],\n",
    "])\n",
    "\n",
    "mask = np.ones((3,3))"
   ]
  },
  {
   "cell_type": "code",
   "execution_count": 12,
   "id": "ebdf59fb-0919-497b-a6c8-36c63fbd3ab0",
   "metadata": {
    "tags": []
   },
   "outputs": [
    {
     "data": {
      "text/plain": [
       "array([[1, 1, 1, 2, 2],\n",
       "       [1, 1, 1, 2, 2],\n",
       "       [1, 1, 1, 2, 2],\n",
       "       [1, 1, 1, 2, 2],\n",
       "       [1, 1, 1, 2, 2]])"
      ]
     },
     "execution_count": 12,
     "metadata": {},
     "output_type": "execute_result"
    }
   ],
   "source": [
    "filtered = median(image, footprint=mask)\n",
    "filtered"
   ]
  },
  {
   "cell_type": "markdown",
   "id": "dc9ff629-6656-4c79-bc72-42cdf12fbf84",
   "metadata": {
    "tags": []
   },
   "source": [
    "- Parameter ``selem'' was removed in version 0.20.0 , one can use ``footprint'' instead (source: https://scikit-image.org/docs/stable/release_notes/release_0.20.html)\n",
    "- other option: try to use skimage version that is older than 0.20.0 and has the median filter functionality with parameter ``selem'' (>= version 0.8.0 skimage.filter.rank.median())"
   ]
  }
 ],
 "metadata": {
  "kernelspec": {
   "display_name": "Python 3 (ipykernel)",
   "language": "python",
   "name": "python3"
  },
  "language_info": {
   "codemirror_mode": {
    "name": "ipython",
    "version": 3
   },
   "file_extension": ".py",
   "mimetype": "text/x-python",
   "name": "python",
   "nbconvert_exporter": "python",
   "pygments_lexer": "ipython3",
   "version": "3.9.19"
  }
 },
 "nbformat": 4,
 "nbformat_minor": 5
}
