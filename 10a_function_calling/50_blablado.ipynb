{
 "cells": [
  {
   "cell_type": "markdown",
   "id": "a9e5556d-1c9c-4fa8-801a-590aa17c0a20",
   "metadata": {},
   "source": [
    "# `blablado` calls functions for you\n",
    "\n",
    "The `blablado` library is a simple way to use large language models to call python functions. It is a conenvience wrapper around the OpenAI API and langchain.\n",
    "\n",
    "You can install it using pip:\n",
    "```\n",
    "pip install blablado\n",
    "```"
   ]
  },
  {
   "cell_type": "code",
   "execution_count": 1,
   "id": "d870ac34-92d4-4511-8df2-564c1f43ceaf",
   "metadata": {},
   "outputs": [],
   "source": [
    "from blablado import Assistant\n",
    "assistant = Assistant()"
   ]
  },
  {
   "cell_type": "markdown",
   "id": "b0ad2dbc-c7dc-4924-b05a-511db2e08f1b",
   "metadata": {},
   "source": [
    "## Calling simple functions\n",
    "\n",
    "The assistant supports calling functions with multiple parameters and common types. Just register the function you would like it to be aware of and then run a prompt with a task that could be solved using the mentioned funciton."
   ]
  },
  {
   "cell_type": "code",
   "execution_count": 2,
   "id": "853dec80-6748-4ef2-989b-ef7bf28c2aa1",
   "metadata": {},
   "outputs": [],
   "source": [
    "def compute_sum(a:int, b:int):\n",
    "    \"\"\"Sums two numbers\"\"\"\n",
    "    print(f\"summing {a} and {b}...\")\n",
    "    return a + b\n",
    "\n",
    "assistant.register_tool(compute_sum)"
   ]
  },
  {
   "cell_type": "code",
   "execution_count": 3,
   "id": "be441ead-412e-473a-9f88-3fff4a45f6e3",
   "metadata": {},
   "outputs": [
    {
     "name": "stdout",
     "output_type": "stream",
     "text": [
      "summing 5 and 4...\n",
      "The sum of 5 plus 4 is 9.\n"
     ]
    }
   ],
   "source": [
    "assistant.do(\"add 5 plus 4\")"
   ]
  },
  {
   "cell_type": "markdown",
   "id": "cf300275-44e4-4834-811a-6ea661f9f84b",
   "metadata": {},
   "source": [
    "## Chaining operations\n",
    "You can also specify multiple functions/tools and ask to execute them in order."
   ]
  },
  {
   "cell_type": "code",
   "execution_count": 4,
   "id": "ddc018f4-9e56-4405-84cd-f71f8fa90be7",
   "metadata": {},
   "outputs": [],
   "source": [
    "def multiply_numbers(a:int, b:int):\n",
    "    \"\"\"Multiply two numbers\"\"\"\n",
    "    print(f\"Multiplying {a} and {b}...\")\n",
    "    return a * b\n",
    "\n",
    "assistant.register_tool(multiply_numbers)"
   ]
  },
  {
   "cell_type": "code",
   "execution_count": 5,
   "id": "bfc7c407-ab7b-42e0-92f8-e7486f6f5b30",
   "metadata": {},
   "outputs": [
    {
     "name": "stdout",
     "output_type": "stream",
     "text": [
      "summing 2 and 4...\n",
      "Multiplying 6 and 3...\n",
      "The result of adding 2 and 4, and then multiplying the result by 3 is 18.\n"
     ]
    }
   ],
   "source": [
    "assistant.do(\"Add 2 and 4. Afterwards, take the result and multiply it by three. What's the result?\")"
   ]
  },
  {
   "cell_type": "markdown",
   "id": "084218a9-c5aa-4a0c-9524-26af251f86d8",
   "metadata": {},
   "source": [
    "## Calling functions with common Python data types\n",
    "\n",
    "The assistant can also call functions with more complex and yet python standard types such as datetime. "
   ]
  },
  {
   "cell_type": "code",
   "execution_count": 6,
   "id": "6d5b48e8-d357-45bd-9ad5-273be7da5825",
   "metadata": {},
   "outputs": [],
   "source": [
    "from datetime import datetime\n",
    "\n",
    "@assistant.register_tool\n",
    "def book_room(room:str, author:str, start:datetime, end:datetime):\n",
    "    \"\"\"Book a room for a specific person from start to end time.\"\"\"\n",
    "    \n",
    "    result = f\"\"\"\n",
    "    Booking {room} for {author} from {start} to {end} was successful.\n",
    "    \"\"\"\n",
    "    \n",
    "    print(result)\n",
    "    \n",
    "    return result"
   ]
  },
  {
   "cell_type": "code",
   "execution_count": 7,
   "id": "b61f7eb9-4480-421b-898d-c33032535d77",
   "metadata": {},
   "outputs": [
    {
     "name": "stdout",
     "output_type": "stream",
     "text": [
      "\n",
      "    Booking A03.21 for Robert from 2024-06-02 15:00:00 to 2024-06-02 16:00:00 was successful.\n",
      "    \n",
      "I have successfully booked room A03.21 for you, Robert, from 3 to 4 pm tomorrow.\n"
     ]
    }
   ],
   "source": [
    "assistant.do(\"Hi I'm Robert, please book room A03.21 for me from 3 to 4 pm tomorrow. Thanks\")"
   ]
  },
  {
   "cell_type": "markdown",
   "id": "7ea09b51-2919-4e50-b537-54b6df34e804",
   "metadata": {},
   "source": [
    "## Calling unrelated stuff\n",
    "\n",
    "The following examples serve demonstrating that functions are not called in case the assistant doesn't know what to do."
   ]
  },
  {
   "cell_type": "code",
   "execution_count": 8,
   "id": "87a1c450-a200-47e6-a598-a73119cfc3fb",
   "metadata": {},
   "outputs": [
    {
     "name": "stdout",
     "output_type": "stream",
     "text": [
      "I'm sorry, but I am not capable of setting up a coffee for you in the kitchen.\n"
     ]
    }
   ],
   "source": [
    "assistant.do(\"Setup a coffee for me in the kitchen\")"
   ]
  },
  {
   "cell_type": "code",
   "execution_count": 9,
   "id": "c85ea0f8-5b7c-4fc5-a378-923f00dde94a",
   "metadata": {},
   "outputs": [
    {
     "name": "stdout",
     "output_type": "stream",
     "text": [
      "Europe is not in America because they are separate continents located on different tectonic plates.\n"
     ]
    }
   ],
   "source": [
    "assistant.do(\"Why is Europe not in America?\")"
   ]
  },
  {
   "cell_type": "code",
   "execution_count": 10,
   "id": "dc6b3ba2-3110-4ce4-af66-cf85b459d9dc",
   "metadata": {},
   "outputs": [
    {
     "name": "stdout",
     "output_type": "stream",
     "text": [
      "Room A03.21 was booked for Robert.\n"
     ]
    }
   ],
   "source": [
    "assistant.do('which room was booked for robert?')"
   ]
  },
  {
   "cell_type": "markdown",
   "id": "47d0c655-d67b-4e95-aa9e-0901839c1658",
   "metadata": {},
   "source": [
    "## Exercise\n",
    "Create a new assistant object and add functions for opening and showing images. Program another function that can add two images. Hint: Copy-paste code from the notebook [30_langchain_bia.ipynb](30_langchain_bia.ipynb)."
   ]
  },
  {
   "cell_type": "code",
   "execution_count": null,
   "id": "47e16786-1bed-4644-839b-6ae05ce99be4",
   "metadata": {},
   "outputs": [],
   "source": []
  }
 ],
 "metadata": {
  "kernelspec": {
   "display_name": "Python 3 (ipykernel)",
   "language": "python",
   "name": "python3"
  },
  "language_info": {
   "codemirror_mode": {
    "name": "ipython",
    "version": 3
   },
   "file_extension": ".py",
   "mimetype": "text/x-python",
   "name": "python",
   "nbconvert_exporter": "python",
   "pygments_lexer": "ipython3",
   "version": "3.9.19"
  }
 },
 "nbformat": 4,
 "nbformat_minor": 5
}
