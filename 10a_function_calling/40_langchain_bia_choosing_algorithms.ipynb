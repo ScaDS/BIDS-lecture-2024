{
 "cells": [
  {
   "cell_type": "markdown",
   "id": "b97b3b00-8ff4-4e1b-b7c7-709f87aabc37",
   "metadata": {},
   "source": [
    "## Allowing language models to choose the right algorithm\n",
    "In this notebook we enable a language model to choose the right algorithm for answering a specific question. We define multiple segmentation algorithms / tools and then give the language model the choice which one to use given different inputs."
   ]
  },
  {
   "cell_type": "code",
   "execution_count": 1,
   "id": "f4ae3a80-b6ea-4409-95b7-caecd4e4211c",
   "metadata": {
    "tags": []
   },
   "outputs": [],
   "source": [
    "from langchain.memory import ConversationBufferMemory\n",
    "from langchain.chat_models import ChatOpenAI\n",
    "from langchain.agents import initialize_agent\n",
    "from langchain.agents import AgentType\n",
    "from langchain.tools import tool\n",
    "\n",
    "from skimage.io import imread\n",
    "from napari_segment_blobs_and_things_with_membranes import voronoi_otsu_labeling, local_minima_seeded_watershed\n",
    "\n",
    "import stackview"
   ]
  },
  {
   "cell_type": "markdown",
   "id": "6b78c8e5-58d1-4750-b659-e639a2b99d2f",
   "metadata": {},
   "source": [
    "Again, we define an image storage and a list of tools."
   ]
  },
  {
   "cell_type": "code",
   "execution_count": 2,
   "id": "8f8158b6-5a36-4cad-a28f-42cd375a0d4f",
   "metadata": {
    "tags": []
   },
   "outputs": [],
   "source": [
    "image_storage = {}\n",
    "tools = []"
   ]
  },
  {
   "cell_type": "code",
   "execution_count": 3,
   "id": "bc5b05a7-8ef6-458f-acbf-1c79e26cf9fb",
   "metadata": {
    "tags": []
   },
   "outputs": [],
   "source": [
    "@tools.append\n",
    "@tool\n",
    "def load_image(filename:str):\n",
    "    \"\"\"Useful for loading and image file and storing it.\"\"\"\n",
    "    print(\"loading\", filename)\n",
    "    image = imread(filename)\n",
    "    image_storage[filename] = image\n",
    "    return \"The image is now stored as \" + filename"
   ]
  },
  {
   "cell_type": "markdown",
   "id": "8bf722d8-5636-4cfc-a3c7-422e0f02fe68",
   "metadata": {},
   "source": [
    "We define two segmentation algorithms, one for segmenting bright objects and one for segmenting dark objects."
   ]
  },
  {
   "cell_type": "code",
   "execution_count": 4,
   "id": "993a17aa-57b2-4e72-b546-0ec7199c40c6",
   "metadata": {
    "tags": []
   },
   "outputs": [],
   "source": [
    "@tools.append\n",
    "@tool\n",
    "def segment_bright_objects(image_name):\n",
    "    \"\"\"\n",
    "    Useful for segmenting bright objects in an image \n",
    "    that has been loaded and stored before.\n",
    "    \"\"\"\n",
    "    print(\"segmenting (Voronoi-Otsu-Labeling)\", image_name)\n",
    "    \n",
    "    image = image_storage[image_name]\n",
    "    label_image = voronoi_otsu_labeling(image, spot_sigma=4)\n",
    "    \n",
    "    label_image_name = \"segmented_\" + image_name\n",
    "    image_storage[label_image_name] = label_image\n",
    "    \n",
    "    return \"The segmented image has been stored as \" + label_image_name"
   ]
  },
  {
   "cell_type": "code",
   "execution_count": 5,
   "id": "7de6cb09-06a3-4e68-a685-0512e3f5aad3",
   "metadata": {},
   "outputs": [],
   "source": [
    "@tools.append\n",
    "@tool\n",
    "def segment_dark_objects(image_name):\n",
    "    \"\"\"\n",
    "    Useful for segmenting dark objects with bright border in an image \n",
    "    that has been loaded and stored before.\n",
    "    \"\"\"\n",
    "    print(\"segmenting (Local-minima-seeded watershed)\", image_name)\n",
    "    \n",
    "    image = image_storage[image_name]\n",
    "    label_image = local_minima_seeded_watershed(image, spot_sigma=10)\n",
    "    \n",
    "    label_image_name = \"segmented_\" + image_name\n",
    "    image_storage[label_image_name] = label_image\n",
    "    \n",
    "    return \"The segmented image has been stored as \" + label_image_name"
   ]
  },
  {
   "cell_type": "code",
   "execution_count": 6,
   "id": "a11fe914-4162-4ca3-b067-e5278711e3f3",
   "metadata": {
    "tags": []
   },
   "outputs": [],
   "source": [
    "@tools.append\n",
    "@tool\n",
    "def show_image(image_name):\n",
    "    \"\"\"Useful for showing an image that has been loaded and stored before.\"\"\"\n",
    "    print(\"showing\", image_name)\n",
    "    \n",
    "    image = image_storage[image_name]\n",
    "    display(stackview.insight(image))\n",
    "    \n",
    "    return \"The image \" + image_name + \" is shown above.\""
   ]
  },
  {
   "cell_type": "markdown",
   "id": "c0524eb1-7633-45e7-982b-1c2cc5af0b16",
   "metadata": {},
   "source": [
    "We create some memory and a large language model based on OpenAI's chatGPT."
   ]
  },
  {
   "cell_type": "code",
   "execution_count": 7,
   "id": "5d032bf0-49d1-42d4-9654-394a9e660996",
   "metadata": {},
   "outputs": [
    {
     "name": "stderr",
     "output_type": "stream",
     "text": [
      "C:\\Users\\haase\\mambaforge\\envs\\tea3\\lib\\site-packages\\langchain_core\\_api\\deprecation.py:119: LangChainDeprecationWarning: The class `ChatOpenAI` was deprecated in LangChain 0.0.10 and will be removed in 0.2.0. An updated version of the class exists in the langchain-openai package and should be used instead. To use it run `pip install -U langchain-openai` and import as `from langchain_openai import ChatOpenAI`.\n",
      "  warn_deprecated(\n"
     ]
    }
   ],
   "source": [
    "memory = ConversationBufferMemory(memory_key=\"chat_history\", return_messages=True)\n",
    "llm=ChatOpenAI(temperature=0)"
   ]
  },
  {
   "cell_type": "markdown",
   "id": "7bda4152-8cd8-4257-8e7a-e31fca49ffad",
   "metadata": {
    "tags": []
   },
   "source": [
    "Given the list of tools, the large language model and the memory, we can create an agent."
   ]
  },
  {
   "cell_type": "code",
   "execution_count": 8,
   "id": "28afdf8e-87f2-44a7-9f8d-ef188e0f13b5",
   "metadata": {},
   "outputs": [
    {
     "name": "stderr",
     "output_type": "stream",
     "text": [
      "C:\\Users\\haase\\mambaforge\\envs\\tea3\\lib\\site-packages\\langchain_core\\_api\\deprecation.py:119: LangChainDeprecationWarning: The function `initialize_agent` was deprecated in LangChain 0.1.0 and will be removed in 0.3.0. Use Use new agent constructor methods like create_react_agent, create_json_agent, create_structured_chat_agent, etc. instead.\n",
      "  warn_deprecated(\n"
     ]
    }
   ],
   "source": [
    "agent = initialize_agent(\n",
    "    tools, \n",
    "    llm, \n",
    "    agent=AgentType.CHAT_CONVERSATIONAL_REACT_DESCRIPTION, \n",
    "    memory=memory\n",
    ")"
   ]
  },
  {
   "cell_type": "markdown",
   "id": "23e3065d-8d55-46dc-b160-ff4349ee3beb",
   "metadata": {
    "tags": []
   },
   "source": [
    "This agent can then respond to prompts."
   ]
  },
  {
   "cell_type": "code",
   "execution_count": 9,
   "id": "5bf8d165-de48-4052-8121-d0bedac8a3e2",
   "metadata": {
    "tags": []
   },
   "outputs": [
    {
     "name": "stderr",
     "output_type": "stream",
     "text": [
      "C:\\Users\\haase\\mambaforge\\envs\\tea3\\lib\\site-packages\\langchain_core\\_api\\deprecation.py:119: LangChainDeprecationWarning: The method `Chain.run` was deprecated in langchain 0.1.0 and will be removed in 0.3.0. Use invoke instead.\n",
      "  warn_deprecated(\n"
     ]
    },
    {
     "name": "stdout",
     "output_type": "stream",
     "text": [
      "loading data/membrane2d.tif\n"
     ]
    },
    {
     "data": {
      "text/plain": [
       "\"The image 'data/membrane2d.tif' has been successfully loaded and stored.\""
      ]
     },
     "execution_count": 9,
     "metadata": {},
     "output_type": "execute_result"
    }
   ],
   "source": [
    "agent.run(\"Please load the image 'data/membrane2d.tif' and show it.\")"
   ]
  },
  {
   "cell_type": "code",
   "execution_count": 10,
   "id": "3a78de42-7960-43f0-a62b-98106e57e75a",
   "metadata": {},
   "outputs": [
    {
     "name": "stdout",
     "output_type": "stream",
     "text": [
      "segmenting (Voronoi-Otsu-Labeling) data/membrane2d.tif\n"
     ]
    },
    {
     "data": {
      "text/plain": [
       "'The segmented image has been stored as segmented_data/membrane2d.tif'"
      ]
     },
     "execution_count": 10,
     "metadata": {},
     "output_type": "execute_result"
    }
   ],
   "source": [
    "agent.run(\"Please segment the image 'data/membrane2d.tif'\")"
   ]
  },
  {
   "cell_type": "code",
   "execution_count": 11,
   "id": "ae00622c-0d17-4d73-adfc-3a0622024ea4",
   "metadata": {
    "tags": []
   },
   "outputs": [
    {
     "name": "stdout",
     "output_type": "stream",
     "text": [
      "showing segmented_data/membrane2d.tif\n"
     ]
    },
    {
     "data": {
      "text/html": [
       "<table>\n",
       "<tr>\n",
       "<td>\n",
       "<img src=\"data:image/png;base64,iVBORw0KGgoAAAANSUhEUgAAAoAAAAHgCAYAAAA10dzkAAAAOXRFWHRTb2Z0d2FyZQBNYXRwbG90bGliIHZlcnNpb24zLjguNCwgaHR0cHM6Ly9tYXRwbG90bGliLm9yZy8fJSN1AAAACXBIWXMAAA9hAAAPYQGoP6dpAAA5fUlEQVR4nO3dfXiU9Z3v8U+AEJEms0YkD4oUXWzVcHFqUJD6gE/ReFCRtlDddaGyrhahmwVqi5xzhK6SylmxZ0Xc2vUBURZ0j1B3pbWxCEhZt4i0gnVZuoJCTRpFnABiQLjPH5wZZybzPPfz7/26rlyHzNwz+WVOtv30871/911mWZYlAAAAGKOX1wsAAACAuwiAAAAAhiEAAgAAGIYACAAAYBgCIAAAgGEIgAAAAIYhAAIAABiGAAgAAGAYAiAAAIBhCIAAAACGIQACAAAYhgAIAABgGAIgAACAYQiAAAAAhiEAAgAAGIYACAAAYBgCIAAAgGEIgAAAAIYhAAIAABiGAAgAAGAYAiAAAIBhCIAAAACGIQACAAAYhgAIAABgGAIgAACAYQiAAAAAhiEAAgAAGIYACAAAYBgCIAAAgGEIgAAAAIYhAAIAABiGAAgAAGAYAiAAAIBhCIAAAACGIQACAAAYhgAIAABgGAIgAACAYQiAAAAAhiEAAgAAGIYACAAAYBgCIAAAgGEIgAAAAIYhAAIAABiGAAgAAGAYAiAAAIBhCIAAAACGIQACAAAYhgAIAABgGAIgAACAYQiAAAAAhiEAAgAAGIYACAAAYBgCIAAAgGEIgAZbvHixhgwZohNOOEGNjY169dVXvV4SAABwAQHQUCtWrFBLS4vmzJmjLVu26OKLL1Zzc7Pee+89r5cGAAAcVmZZluX1IuC+kSNH6rzzztMjjzwSf+zss8/WuHHj1Nra6uHKAACA0/p4vQC47/Dhw9q8ebO+//3vJz3e1NSkjRs3pn1Nd3e3uru7498fO3ZMH330kU4++WSVlZU5ul4AgP0sy9L+/ftVX1+vXr0YCJqGAGigDz/8UEePHlVNTU3S4zU1Nero6Ej7mtbWVs2bN8+N5QEAXLR7926ddtppXi8DLiMAGiy1ubMsK2ObN3v2bM2YMSP+fTQa1emnn64zTx+v3r3Ks/6c/9y1ovTF+siv/3Roye9xwe932LASswxqedaVn7P7RxNc+Tl+Ev1+pddLKErkh/u9XoJtzn7kbFvf7+1vv533sZWVwfz/f5SGAGigAQMGqHfv3j3avs7Ozh6tYExFRYUqKip6PN67V7l69+qb8We9/c7S0hbrQ1/o3bvk9/jdl74sSTpn+3+U/F4mGPy9f3Xl57x7/1hXfo7fVFVwGofXevcr/T9XEjU82aBtk7dlfE6Sjh46qre//Tan8RiKAGigvn37qrGxUW1tbbrxxhvjj7e1temGG27wcGXBEAttsRBXit996cuEwCwIfkDxYkEPSIcAaKgZM2bolltu0YgRI3ThhRfq0Ucf1Xvvvac77rjD66UBAACHEQANNXHiRO3du1c/+MEP1N7eroaGBq1evVqDBw/2emkIkUwNXrbGza3WL4b2Tyqb1yXrniqvl5Hkub+8POcxz/7l8f93wqBVzi7GQbR08AoB0GBTp07V1KlTvV6G8RJHyWEaB2cLcm6HvHQIfv6VT/gLA8IfvMSFfwAAAAxDAwgU6Zzt/2HLRpBE6drA2GMPVD4ff+6x18/p8dopI36X8X3THW8y2j9/MqH5o/WDXxAA4YgwXv7FbdnCZbawl+l4t0JgbG0v6x1Xfh7sUTavS5I8OxewlPD37O5xvj4P8K6bvvH5Ny9Jq6/O/xp9gFMYAQMAABiGBhAIgMTxb7FizZzdTWCmNvLKX56hl6/wVwvI6Nefwjj6TWr9Ulz70vG7ftAEwksEQMDn7Ah/iYoZBxc6co658pdnSJLvgiAyC2oY88MYOFvoS+fal84mBMIzZZZlWV4vAsHT1dWlSCSis744Me2t4Ew5B9DuTSCJ7A5+mSSGwWKDXj78FAJpArN7dvc4r5dQEq+CYKEBMJEXQTB2K7hoNKqqKn9dBxLO4xxAAAAAwxAAAR9yq/2Tjrd+sS8nXfnLM+IjYa/54ULUcI4XDWYp7Z/0+XmBgFs4BxAAkCQ2Qg3yKDi2dq/PCyxEoZtDtk3eFv831xdEoWgAAQAADEMDCAAILad3B5c6+k0n2+7gxNYv3eM0gcgXARBwWewWb6mc3FEMmCxxlJ0YBhMff/2uci34p+fyej8nQl+q1BCYKfilIggiX4yAAQAADEMDCLgoU/uX+tyUEW6spngl3U3k9fwOY6cunJBtY0tis5fYBrrR+KUT2xSSbzOZKLUxpBFEKgIg4ENuXZw53zV4IfFizYRBOOX1u8rTPu5V6HNKviNkmIMRMAAAgGFoAAGfizVxTjSBXrd8+Xr3/rG2toATP1iqBba9G4IqU/vnF8WMfoF8EQABF2Q79y9fQQlrTomNhEsJghM/MOMe1ciN8AfTEQABBEqxbSDhL39BvgNILn4PfoBbOAcQAADAMARAAIGTuEM4H7R/kILT/jH+hRsYAQMOs+P8PxQnW/C769aJkqQFj69wazmBEObxL4DP0QACAAAYhgAIFIl793rr3fvHZh0FM/YFgMwYAQNFahhW3+OxbVvf92AlZiPo2YPRL2AWGkAAAADDEAABGzUMq0/bDMI5bOIoHe0fYJ4yy7IsrxeB4Onq6lIkEtFZX5yo3r36Zjzu7XfCO57r9fXLsz4fGwezC9h5sR29xTI1RA6Ydkn834u/V+3Iz5gwaFXax50MnZl+ZrHuuukbtr5fPty8FEw0GlVVVZVrPw/+QAMIAABgGDaBAA6Jj4JpAB0Xa/BKbQJNktj+SdLU+z+SZF8TmKuFmzBole0toN3NX0xiG+dFGwg4gREwipLvCFgK7xg41wg45tg/r3F4JYhhFJxdaujLpJQQWEwIC0oQTCcxEMaCol0h0a0xMCNgMxEAURQCYO4ASPBznx0NYNhCYL6hL51cQdDOoGVnCHQzAOZiRxh0OggSAM3EOYAAAACGIQDCcWefcYvOPuMWr5cBA4StvStVKe2f9Pl5gYkmDFoV/0JuC/7puZIbPM47hBPYBIKS/Oeu4/+FS8BDWMTGyEENk6WGvlRT7/9IHy5ab+t7puPEphA/sfv8QKBUNIAAAACGIQDCNbSECJIgXVJmwLRL4l92+nDRelfavxgTRsvFjoPvuukbtIewFQEQtsh3py8hEEHi1xCYGPjsDn2S+8HPNKWcF0gIhF0IgAAAAIZhEwhcF2sBw3p9QMAuTrR7ufih+Qv7hpCYBf/0XFGN3n27j3c3cwYds3tJMAgXgkZRYheCTifXmHfwTefH//3z+75j67rcxIWg/c3u8a1bu4JNDX2ZFBIEg3z+YL5BMLLg/yZ9b0cI5ELQZmIEDAAAYBhGwHBVYvsnSdfM+XtJwW4CYYa7bp3oaAtI82e2XOPg1OYvhnEwikUAhO3efmdp2jFwavgDTOZF4JOCF/oKOR8wdlxQR8GJO4MTw2Cm8AeUgnMAUZRs5wAmOvuMW/IOfkFrAXOdAxjDuYDecPISLsU0gV4FvpigBb9EhW4ICWoATBVr9/JVbAvIOYBm4hxAAAAAwzAChqMKGftyPiCCIt/zAb1u/aRgN38xsUbPhEvDJIo1evk2gfft7sW5gMgbDSAcRZhDWN1168SMY2an7tCRr9idPMIQ/ooRtqBYSKi7b3evgkfHMBN/JQAAAIZhEwiKku8mkESxEW8+/Nwc5rv5IxEbQdzj9v17U0fB7O51Vr7tXlg2gqQqpN3LtzlkE4iZCIAoitMBMJGfwmAx4S8VYdBeTge+nx383zmP2bridEmEPzeYuiM4kd27gwmAZmIEDAAAYBgaQBSlmAZQCk4LaEfTlw0tYGHcHuvG5NP+JWo/5c8dWkl6JjV/qUwfBUv2jYNpAM1EAERRig2AUvEhUHIuCDod+FIRAJN5FfCyKTT8Se4GQJPDXwwh0J5xMAHQTIyAAQAADEMDiKKU0gDGeD0Odrv1S8f0JtCr5i9x527qGopp/hK50QLS/h2XTwN4asPT+mr0C84vxmPFXPsv1gbSAJqJO4EgcEq9Y0js9b/YvsquJRWt19cvNy4E+nHcG1Nq+JOkug+edv1cQFNlu0PIqQ1Pu7sYj80ZdKzgEPg/f1emvz2HDshUNIAoih0NoFTa+YBS4SEw9ef5IQQmClMYHDbxPa+XkFHssi2Ss+u0OwjS/KWXGgAzhT+awGSf7rf0t+dYNICG4hxAAAAAw9AAoih2NYAxpTaBpfJbEygFsw30c+uXKtYCOr1mu1pA2r/MYg1grrGvCQ1gTD5NIA2g2QiAITR37lzNmzcv6bGamhp1dHRIkizL0rx58/Too49q3759GjlypB5++GGde+65ef8MuwNgIq/CYKYQmCuIubGZJAhhMFeQShy7erkOr5QaBAmA2f0qciDnMSYFQCl3CCQAmo0RcEide+65am9vj39t3bo1/tyCBQu0cOFCLVq0SJs2bVJtba2uuuoq7d+/38MVAwAAt7ALOKT69Omj2traHo9blqUf/ehHmjNnjsaPHy9JWrJkiWpqarRs2TLdfvvtbi+1h5/f9x1PWsBiW7ZMr7OzGfTzbuHUxs2tpi8TtzZ4uPUzaf7s86vIAaNawNhlXoq5RAzCjwAYUjt27FB9fb0qKio0cuRIzZ8/X2eccYZ27typjo4ONTU1xY+tqKjQpZdeqo0bN/oiAEqf7+51Mgg6fXs5u4Nh4uv8FAa9DnzZeBUG/TqGDrOvRr+Q1xjYRIl3/yAMIoYAGEIjR47UU089pbPOOkt//OMfde+992r06NF666234ucB1tTUJL2mpqZG7777bsb37O7uVnd3d/z7rq4uZxYPAAAcRwAMoebm5vi/hw0bpgsvvFBnnnmmlixZolGjRkmSysrKkl5jWVaPxxK1trb22FgSRE63fvlIbe+KaQRjr/FTE+h3XrSB8J9YS2jSKDhRMReMRjixC9gQV111lf70T/9U3/3ud3XmmWfqjTfe0Fe+8pX48zfccIP+5E/+REuWLEn7+nQN4KBBgxxft2TPGNgPwS8f+YbB8/e9GP/3v/+yn1PLiRt5xSFXfo6b7AyBmcbgiT+jmF3AnP9XmEJGwKYGwHTYBWwm/meAAbq7u/X222+rrq5OQ4YMUW1trdra2uLPHz58WOvWrdPo0aMzvkdFRYWqqqqSvgAAQDAxAg6hWbNm6brrrtPpp5+uzs5O3Xvvverq6tKkSZNUVlamlpYWzZ8/X0OHDtXQoUM1f/58nXjiibr55pu9XrrxEke6mdrAxPZPOt7OxdjZ0iW+bxi5cSFoNoS4K9bq5dMEmrYjGEhFAAyhPXv26KabbtKHH36oU045RaNGjdJrr72mwYMHS5LuuusuHTp0SFOnTo1fCPoXv/iFKisrPV65M4Iy/k0VC4OxIJga/NKJhbZSg2Bq+Avb+DcRIQ2AiTgHEEVx8k4gqYo9BzCowS+dYtq4YkJbpp8T5gAo2dcCZrskzoBpl+T9Ppz7VxrOBSwM5wCaiXMAAQAADEMARCiFqf2Tjjdwsa98jbziUOjP4wuSn/31FK+XYAxaPSA3zgGErxUy/g1b6Mvk33/Zr6Bgl+95geneM+yj3xg3NoRIn4fA5v/zmKM/BwByoQEEAAAwDAEQCKBCx8FS5pEwo2L3MQ72j19FDnAPYRiJAIhQMGX8a4fEsEfwS5ZtF2+u1xX62p/99RSCoIO+Gv0C5wICWRAAAQAADEMAhC+9sr6XXlmf+8/z5/d9x+j2r9hNGox97VNsaxhDC+gPnYuf9XoJgKsIgPCdxOD3vatbvFtIQBRzPiD8hRAIwG0EQAAAAMMQAOF7mVpAk0e/6dAC2qOYDR12YFOIMwrZCNK5+FlGwTAGF4KGb2Q75y8WAu9/6UcEvyxiIZDz+5z3+L2vSJLOX2Hv+/7sr6fofO4F7KnOxc9q4NQJXi8DcBQNIHwhnw0fEucE5os2sHTZWsBY+EN40QYi7AiAAAAAhmEEDE/l2/zFXHbJMYdWEj6Mg+2XrvnbtGOJzh86yYPVpPf3rZfY+n7fmc04GgijMsuyLK8XgeDp6upSJBIp6T0KCX8Ev9IUGwIZJUvDJr4nKfvYN58AuGnHkrx/5r/982N5H+s32/7XnqJf++iRd2xcSU/Zbvk2tHV1xufCfj5gNBpVVVWV18uAyxgBAwAAGIYGEEUppQFk7Os+GsDS5dPgZWsCC2kAY4LUBJbS/KXjRBtYbAMYE9YmkAbQTDSA8DXCnz24ZZw7igl52Vz49WBcF9Du8CdJf1V+hv6q/Azb37cU7ApGmBAAAQAADMMuYLiq0PEv7MOu4NKcP3RSUQ1fqa1grAXMNg72aqeuGw3dX5Wf4fjmkEIktoBhHQnDDARA+BKjXwSV3WPgmAu/PiUeAv1yaZZMwczuYBh7Pz8FQYkwiGCjjgEAADAMu4BRlGJ2AXPdP/8odAzMbuBkTrV8ufjpgtPFsKMZLKUFLHUXcCGC1AiyC9hMBEAUpZgA+MR1z/V47IvfndjjMcKfewoJgoTAZG6FwKCHvkzcDIPZgl+M3QEwkd/DIAHQTIyAAQAADMMmEDguXfMXs+t/r0jz6DecWwyKFmsLaQKdF9bWL9GjR94puQWMNXtfjX4h5zFe6lz8rO9bQJiHETCKUsgIOFsATPStfyH4eaGYy8IQAj9n9yjYhPCXTqFhcNKJb9r6850cAafyWxhkBGwmGkAA8AFTg19Mvo2g3cHPC7HLx/gtCMIsnAMIAABgGEbAKEq+I2DGv8HBKLg4doyATW//UmVqAp1s/9wcAafjZRvICNhMNIBw1Ij3auNfQBiVGt4Ifz2lXt5l0olvhmL0m03iXUUANxAAAQAADMMIGEXJNQLeOvzVtI+/fnpH0veMfv2FMXBxihkD0/zlx63LuHg9Ak7l5kiYEbCZaADhKkbB/vbvv+xHoHMB4S9/2a7xZ6cds6915efkq3Pxs/EvwAkEQAAAAMMwAkZRso2AM41/Uw377cV2Lgk2K3QcbHJzWOgImAawOKaOgxMVOxpO1yTuP/SJzpw5mRGwobgQNGyTb/BDOI284pCxITAW6HIFQYIfSsVIGHZhBAwAAGAYGkC4jtFvMPz7L/sVtSsYCIJ0m0vcGjEDfkAAhC0Y/wLZMf71Xq4dxfHnp4Z71Mo9iCERAGGTYb+9mBAYQrFz+mgCEWRuXUom0ebdf3T9ZyZqbp3u6c+H/3EOIAAAgGFoAAHYxuSdwAiX2Ji0mFGwE+0fjR7sRgAEAAdx7p+3Sh3/ujnKJeTBTYyAAQAADEMAhKu4BEwwMdbNbtOOJQXfDQTO+mr0C7Zs/nCrlaP9g9sYAcM2sXDHbmCzxXYMExrhFS92/RaL4Aev0AACAAAYhgYQQF52XHR3YS/4pTPrADIJUvMHeI0ACAAOYQewOwh+QOEYAQMAABiGBhAASsDuX++41fzFNmr8bPZDrvw8wA0EQNgmn92/W4e/yqVgkOSru25O+v5XX1zm0UoQJIx9gdIQAGGb6Y//usdjD916gQcrQVCkhr/Ex4IcBDn3zxlhDH2xVpHLwcBtnAMIAABgGBpAOGr6479OagEPPfxf0kXpj/31hiczvs8FF022d2HwVLrmL90xfm4BOffPPM2t0zkPEKFBAITjYqPhBYdOznhMtvCX+DxBMBxiwS5XEAzDOBgA/IgRMAAAgGEIgHDdrzc8GW/0Ev+d72sBP2MDCIAgIADCFmM2P1DwawhzyHe0m885g27i/D9zsVsXYUEADJj169fruuuuU319vcrKyrRq1aqk5y3L0ty5c1VfX69+/fppzJgxeuutt5KO6e7u1vTp0zVgwAD1799f119/vfbs2ePibwEAALxEAAyYgwcPavjw4Vq0aFHa5xcsWKCFCxdq0aJF2rRpk2pra3XVVVdp//798WNaWlq0cuVKLV++XBs2bNCBAwc0duxYHT16tOD1XLTuvqLav1IUOjZGOHx1182+awIBIKjYBRwwzc3Nam5uTvucZVn60Y9+pDlz5mj8+PGSpCVLlqimpkbLli3T7bffrmg0qscee0xLly7VlVdeKUl6+umnNWjQIL388su6+uqrHVv7Xf32Zt0JDDP96ovLXAl2t//ds2kf//GsCY7/bADwGxrAENm5c6c6OjrU1NQUf6yiokKXXnqpNm7cKEnavHmzjhw5knRMfX29Ghoa4scAAIBwowEMkY6ODklSTU1N0uM1NTV6991348f07dtXJ510Uo9jYq9Pp7u7W93d3fHvu7q6ilojLWAwVd/zN46+f77XBSxWpvYv9blS20B2AKMQbCiBlwiAIVRWVpb0vWVZPR5LleuY1tZWzZs3z5b13dVvryRpbePMos7l42LQZvPyDiHs/oUdCH7wA0bAIVJbWytJPZq8zs7OeCtYW1urw4cPa9++fRmPSWf27NmKRqPxr927d9uy5gsumhz/gv9U3/M3jrd/iZwKdpznB78g/MEvCIAhMmTIENXW1qqtrS3+2OHDh7Vu3TqNHj1aktTY2Kjy8vKkY9rb27Vt27b4MelUVFSoqqoq6QsAAAQTI+CAOXDggH7/+9/Hv9+5c6d+85vfqLq6WqeffrpaWlo0f/58DR06VEOHDtX8+fN14okn6uabj59bFYlENGXKFM2cOVMnn3yyqqurNWvWLA0bNiy+K9griS1g6miYhtBdbrZ+heK+wABQOgJgwLz++uu67LLL4t/PmDFDkjRp0iQ9+eSTuuuuu3To0CFNnTpV+/bt08iRI/WLX/xClZWV8dc8+OCD6tOnjyZMmKBDhw7piiuu0JNPPqnevXu7/vtkQuDzhp+DX6l+PGtCSZeC4fw/e32h9QQdmP2p18soSeI492ezH/JwJUDhCIABM2bMGFmWlfH5srIyzZ07V3Pnzs14zAknnKCHHnpIDz3Ef2ABAGAiAiA8M2bzA1rbONPrZcBnMl0Sxo7Rr1ObQbj8S/6+0HqC10twRHPrdFpABAoBEIAk+8a/H8170Jb38cu5fox+7ZMY/oI8/mUnL8KAXcAAAACGIQACAGCD5tbptIMIDEbA8NSYzQ9IEucCOiB1pJtuNGv3rl+7xr9+0qv/i2kfP3bwv7u8kuAKy+g3X+nOByQYwm9oAAEAAAxDAwiEULpmL8zX+PNCrBlsrE9/bUEcZ1r7F0PjB7+jAYQvxEbBKI3b9+5N9/PDZPP73EPYDgdmf2pU+AOCgAAIhETYwhfCgeAH+BMBEAAAwDBlVrb7igEZdHV1KRKJxL+3c4TLjuDi+K0BDMOO4HxHwJwHiCCLRqOqqqryehlwGQ0gAEf4LZAWivP/AIQZARAAAMAwBECU5I2G27Vj+HT95NZdtr0nO4KL48eRq9e7kgEA6REAYZuf3LrLtiB4zhf/Iv6F4AtzCOT8PwBBRAAEAAAwDAEQtiu1Bez82m+TvqcFDAfGwQDgH9wKDo4oJgTeEI1mfC4xBP5u11N5vV+64Jjva+GcxBDox/MWAcAENIAAAACGoQFE4JQyEk59LY2gt6rv+RvftYBc/BmACWgAYbQw7TQO6vl1QV03AAQZDSCgYJ8vGIYAxXmBAOAuGkAAAADD0AACGQShFQxD+5cq9jt50QRy/18ApiAAwjd+GolIyn45GK+d88W/0O0HTo1//9cftub1uv8zYHbOY/J9r2yhL1toClpY9OMGEQAIC0bAAAAAhimzLMvyehEInq6uLkUiEb3RcLsqe/e1/f0TW8BCx65O7upNbP+8km9TmEnQmsAYN9rAYkbAXA4GQReNRlVVVeX1MuAyRsDwnaG/faik16cGxqBf5qXUwOeEfMKY3UHTyXMDSzn3b/P7EwiBAAKHETAAAIBhGAGjKKWMgEtt+NyQqTXMNo7OZ6NHLm60fV858knax9+9d05er7ezgSulJbRzHaXu/qUBRJAxAjYTARBFyTcABiHsuSFbOPRixFtMCHTjHLxiA2Epa7Pj0i9+C4BvrFqV9vHzxo1zdR0IBgKgmRgBAwAAGIYGEEXJ1QDS/PlbpgYwJrUJ9OJ6fIW0gW23/yH+70LbuLA1gJnav1S0gYihATQTARBFyRYACX/BkS0IvnvvHN9ciDlbGEwMf6nyCWZhCYD5Br9EhEBIBEBTcRkYAGkN/h/3+SYAJq4jFgazBb+YxHCXGtLsvO1bpvfyQzBEaX41/7fxf3/17uEergSwF+cAAgAAGIYGELZh9As3fDTvwaLaOzsbP78pZvwLwGwEQMBgW8pPzLkhxI8SR6t+DnZ+vksI5/9llzj6BcKIETAAAIBhaABhC8a/wRTE9i+Vn9tAp9s/dv4CKBYBEEBaW8pP9HoJBfNzGLQb4Q9AKRgBAwAAGIYGECU5b9uPvV4CkFZj/bOetIBs+givX83/LdcCRGgQAAEDheHcv3zEwljYxsHc7g1AqRgBAwAAGIYGEEDoeTUOthvNHwC7EAABw5gy/k3lVgh06uLPucIfoQ9AIQiAAIzh1jmBdr1/2a9vzus4wh+AQnEOIAAAgGEIgIAhvnLkE2PHv6n8eqmWVNYFy7I+f964cbR/AIpCAAQMQPDrqbH+2UAEQeuCZTmDIAAUigAIAABgGAIgAKMFoQWUeo6DGf26j7uAIEzYBQyEHOPf3IJyxxBCHwC70AACAAAYhgYQCLkt5SdKogkMqqCMqMOM0S/CiAAIGIIgmJtfbhlH6APgNEbAAAAAhiEAAoaJNYG5mNoUen19QNo/AG4gAAIG2lJ+Yt5B0FRuBzGvgyfS4/w/hFWZZVmW14tA8HR1dSkSiXi9DJQoV8tHSPycU+cGEvrgtWg0qqqqKq+XAZfRAAbM+vXrdd1116m+vl5lZWVatWpV0vOTJ09WWVlZ0teoUaOSjunu7tb06dM1YMAA9e/fX9dff7327Nnj4m8BAAC8RAAMmIMHD2r48OFatGhRxmOuueYatbe3x79Wr16d9HxLS4tWrlyp5cuXa8OGDTpw4IDGjh2ro0ePOr18+AwNX/7sbuoY+QLwEpeBCZjm5mY1NzdnPaaiokK1tbVpn4tGo3rssce0dOlSXXnllZKkp59+WoMGDdLLL7+sq6++2vY1I7hiI2KC4nFBuWMIAORCAxhCa9eu1cCBA3XWWWfptttuU2dnZ/y5zZs368iRI2pqaoo/Vl9fr4aGBm3cuNGL5QIAAJcRAEOmublZzzzzjNasWaMHHnhAmzZt0uWXX67u7m5JUkdHh/r27auTTjop6XU1NTXq6OjI+L7d3d3q6upK+gJMVeroltEvAK8xAg6ZiRMnxv/d0NCgESNGaPDgwXrxxRc1fvz4jK+zLEtlZWUZn29tbdW8efNsXSsQZMWMgwl+APyCBjDk6urqNHjwYO3YsUOSVFtbq8OHD2vfvn1Jx3V2dqqmpibj+8yePVvRaDT+tXv3bkfXDQAAnEMADLm9e/dq9+7dqqurkyQ1NjaqvLxcbW1t8WPa29u1bds2jR49OuP7VFRUqKqqKukLQP6tHu0fAD9hBBwwBw4c0O9///v49zt37tRvfvMbVVdXq7q6WnPnztXXvvY11dXVadeuXbr77rs1YMAA3XjjjZKkSCSiKVOmaObMmTr55JNVXV2tWbNmadiwYfFdwYV4uebr6t+rXBe2/5NtvyO8t7ypIen7L3m0jqBgdzCAoCEABszrr7+uyy67LP79jBkzJEmTJk3SI488oq1bt+qpp57Sxx9/rLq6Ol122WVasWKFKisr46958MEH1adPH02YMEGHDh3SFVdcoSeffFK9e/d2/fcBAADu41ZwKErsVnCxBlASLWBAJd4OLrX5i/nSK++4tZxAy9YAMgKGX3ErODPRAMI2/1Z3kyR/B8G6oWPyPrZ9x1rH1uFHmcIf8tdY/2yPEEjwA+BHBEDY7t/qbvJtCGzfsTbvEJh4XJjDIMEPOG75qcevj/rNP+zLcSQQfOwCBgAAMAwNIBwRGwdL/hsJJ7Z5hYyEwyp2ft/2y87weCXhkG4MDP+KtX6pj9ECIuwIgHBcYhhM5bdwiGRs/igN5//5W7rwB5iCETAAAIBhaADhmUdvek7f+v9/gk8s/MyTNcTGwdlGwWHeAAJn0Pz5X672jw0hCDsCIFz36E3Peb2EHgrZHQwguBj7AscxAgYAADAMDSBc5cf2D0C40foBPREA4Zp04c+rc//ywbl/QPAR/oD0GAEDAAAYhgYQjgvK2JeNIEB40PwB2REAUZIr//jP8X+nu+BzUMIf0ovdHYQLQgNAuBAAYZvEu3p8a0aw/7RMOv8vn1vAbb/sDEIgAiXx+n20gUBPnAMIAABgmDLLsiyvF4Hg6erqUiQSyXlcvk2gn3cDh10+DWAimkAEVTFNoAl3AolGo6qqqvJ6GXAZDSAclW+wC/rIGID/mRDmgHwRAAEAAAxDAIRvfGtGH5pABNKZ46p15rhqr5eBPHzzD/toAgERAOGCJxZ+VtA5foRABEEs9BH8gokQCNMRAAEAAAxDAASAAtH6hQMtIEzGrA2OK2akG3sNl4fxDy7/QvADEB40gAAAAIahAYSvfWtGH1pAHzC5/cun9fuvVR+5sBI4ITYG5nZxMA0NIHyPXcHe+dIr7xD+ciD8hQPnA8I0/DcrAiExBNII2svkgJdOvuf5EfzChzYQJqEBBAAAMAwNIHwhW6uXOgKmDYTd2N2LRIyDYYIyy7IsrxeB4Onq6lIkEinoNenO5Ss0wGU6H5AgiGIVE/4Y/yJMotGoqqqqvF4GXMYIGAAAwDCMgBEoNH2wC2NfACYjAMI1Tyz8jEu6IBSyhUfGwwCCgBEwAACAYahj4BnGucF1+d98J+Nzax78+6zHp3vebU6OfzO9N80gAD8hAAKwVaZw6Ifg56XEYEgYBOA1RsAAAACGoQGEa9gAEg7Zxr+p/NT6+WnX75njqmkBAXiK/0aGZ741ow/nAQZIIcHPD/wU+FCYu589N+n7+RPe8mglQHgRAAHkVGz4i73OzSbQi+CX2uYRPouTGvwAOIdzAAEAAAxDAwjHZTr37xsfDNQ3bjn+72uXvu/iihBWfmneYo0gl4QB4FdllmVZXi8CwdPV1aVIJJLXsatvqc95DAEwmHKNht3eBOKH8W8qLv9SuMRRMOf/OS8ajaqqqsrrZcBljIABAAAMQwOIotAAwq/cbgFp9cKnX/TxpO8PRW71aCXuoAE0E+cAAgiVxEDmRhjkmn7hkBr60j0X9iAIszACBgAAMAwNIIDQyrUbF8jW/AFhRgMIx1279H3O8YOnGNECQDICIAAAgGEIgAAAYx2K3MrmDhiJAAjXMAYG4FeEQJiGAAgAgGgDYRYCIAAAgGEIgABCj8vAoBCZWkAuGYMwIQDCNdluCZfP7eIAwC2MgxF2BEAAAADDcCcQAKHF6BcA0iMAwnGMd+EFwh+C4OL53+jx2Kt3P+fBSmAaRsAAAACGoQEEECqFNn+p9wmmOUQ2/aKP27Y5JF37B7iFBjBgWltbdf7556uyslIDBw7UuHHjtH379qRjLMvS3LlzVV9fr379+mnMmDF66623ko7p7u7W9OnTNWDAAPXv31/XX3+99uzZ4+av0sPqW+oZF6Mk+Ya3/1r1Ufwr03MwW7/o445d9uXi+d8g/MFzBMCAWbdune6880699tpramtr02effaampiYdPHgwfsyCBQu0cOFCLVq0SJs2bVJtba2uuuoq7d+/P35MS0uLVq5cqeXLl2vDhg06cOCAxo4dq6NHj3rxawEAABeVWZZleb0IFO+DDz7QwIEDtW7dOl1yySWyLEv19fVqaWnR9773PUnH276amhrdf//9uv322xWNRnXKKado6dKlmjhxoiTp/fff16BBg7R69WpdffXVOX9uV1eXIpFIXmsstNXjnsEoVq4GsNBmr5BGEeGSrf0b8fDPJBW3WSNb8+fV5o9oNKqqqipPfja8QwMYcNFoVJJUXX38v6h27typjo4ONTU1xY+pqKjQpZdeqo0bN0qSNm/erCNHjiQdU19fr4aGhvgxqbq7u9XV1ZX0BQRFsWPdfF5z4fk/KGZJCKhY+JM4hw/BRgAMMMuyNGPGDF100UVqaGiQJHV0dEiSampqko6tqamJP9fR0aG+ffvqpJNOynhMqtbWVkUikfjXoEGD7P51AACAS9gFHGDTpk3Tm2++qQ0bNvR4rqysLOl7y7J6PJYq2zGzZ8/WjBkz4t93dXXlHQJjI102eMBtdoxmE98jcSRM8xdusZ2+iaPgxPYvJrEFzDTCzacp5Np/cBsBMKCmT5+uF154QevXr9dpp50Wf7y2tlbS8Zavrq4u/nhnZ2e8FaytrdXhw4e1b9++pBaws7NTo0ePTvvzKioqVFFRUdKar136PiEQjnPyfLzYe//5fYsc+xnwl8RLvryq7GGumJEwwQ9eYQQcMJZladq0aXr++ee1Zs0aDRkyJOn5IUOGqLa2Vm1tbfHHDh8+rHXr1sXDXWNjo8rLy5OOaW9v17Zt2zIGQLuwwQNOcmszxtNzpiV9/+f3LSIUGsLOwEb4g5doAAPmzjvv1LJly/TTn/5UlZWV8XP2IpGI+vXrp7KyMrW0tGj+/PkaOnSohg4dqvnz5+vEE0/UzTffHD92ypQpmjlzpk4++WRVV1dr1qxZGjZsmK688kovfz0AAOACLgMTMJnO0XviiSc0efJkScdbwnnz5unHP/6x9u3bp5EjR+rhhx+ObxSRpE8//VTf/e53tWzZMh06dEhXXHGFFi9enPd5fYVcBiabTCNhmkL4XabGL7UdRPiUuvvXb80fl4ExEwEQRbErAMZkOzeQMAg/yzb6JQyGUykB0G/hTyIAmopzAAEAAAxDAITvsXMYQcXGEMS8evdzvmz/YC4CIAA4iB3CIPjBjwiAAAAAhiEAwvfYBIIwoAUE4CcEQPgCIQ9BxU5fsxS6A5jxL/yKAAgAAGAY7gQCACWKtYC5xryx52kNw4/mD35HAwgAAGAYAiAA2CTfZo8NIf70+OrX41+ZfOu/fS/n+9D+IQgIgAAAAIbhXsAoit33Apa4HzDCh/sEB0em1u/Wa0dkPOaJ39yf9jVBawC5F7CZCIAoCgEQyE+ucS9B0B+yjX2zSQyBQQt+MQRAMzECBgAAMAyXgYFvxFq+bE0gEDSJDR+bP8Intikk0zgY8CsCIAIhFgoZBSPIGPeGV1DHvzAXI2AAAADDEADhO+lavmuXvk/7BwCATQiA8D2CHwCnJV7uBTABARAAAMAwbAKBL9H6AQDgHBpAAAAAwxAAAQDQ8fMAORcQpiAAAgAAGIYACABAAlpAmIAACABACsbBCDsCIAAAgGEIgAAAAIYhAAIAkAFjYIQVARAAAMAwZZZlWV4vAsHT1dWlSCTi9TIAwDWPr3496/NBbQuj0aiqqqq8XgZcRgMIACHwd3/2l/q7P/tLr5cBICAIgAAAAIbp4/UCAAD2SW0BZz3zjx6tJHxuvXZEzjEwEBScA4iicA4g4C/5jH8Jg/YI27mAnANoJhpAAAiBWLjLFgQTnyMMAmbjHEAAAADDMAJGURgBA/5UzE5g2sDiZBsFB2kMzAjYTARAFIUACPgXIdB9qWGQAAi/YwQMAABgGAIgAAAlSm38Hl/9OpeMga8xAkZRYiPgO6/+SBXlVVr4r2woB/ymkFEwI2D7BG0czAjYTDSAAAAAhiEAAkBI0ep5I904GPAbAiAAGI6gaL9brx3h+9EvzEYABAAAMAybQFAUrgMIBEu2DSE0gGZjE4iZaAABwACEPACJuHYHABhi1jP/WNRdQuCMJ1+bmvG5yaMWu7gSmIgGEAAAwDAEQAAAfCZbOwjYgQAIAAaZ9cw/cj4gAAIgAACAabgMDIrCZWAAoHR+2AjCZWDMRAMIAIBHJo9azI5feIIACAAAYBgCIADP3a2l8S/ARLSAcBsXgobrbt25Mu3jjw+50eWVwA8IfcBxhEC4iQYQAADAMARAAJ5J1/4xCgYA53EZGBTFjsvApI6CGQGbI9+AN1+3OLwSAFwGxkw0gAHT2tqq888/X5WVlRo4cKDGjRun7du3Jx0zefJklZWVJX2NGjUq6Zju7m5Nnz5dAwYMUP/+/XX99ddrz549bv4qenzIjUlfMEMh7R6bQwDAGQTAgFm3bp3uvPNOvfbaa2pra9Nnn32mpqYmHTx4MOm4a665Ru3t7fGv1atXJz3f0tKilStXavny5dqwYYMOHDigsWPH6ujRo27+OgAAwAOMgAPugw8+0MCBA7Vu3Tpdcsklko43gB9//LFWrVqV9jXRaFSnnHKKli5dqokTJ0qS3n//fQ0aNEirV6/W1VdfnfPncicQFMuONo/RMGAfRsBmogEMuGg0Kkmqrq5Oenzt2rUaOHCgzjrrLN12223q7OyMP7d582YdOXJETU1N8cfq6+vV0NCgjRs3pv053d3d6urqSvoCvMJIGCjd967hsjMmIwAGmGVZmjFjhi666CI1NDTEH29ubtYzzzyjNWvW6IEHHtCmTZt0+eWXq7u7W5LU0dGhvn376qSTTkp6v5qaGnV0dKT9Wa2trYpEIvGvQYMGOfeLAQAAR3Eh6ACbNm2a3nzzTW3YsCHp8dhYV5IaGho0YsQIDR48WC+++KLGjx+f8f0sy1JZWVna52bPnq0ZM2bEv+/q6iIEAkDA/K/rnoj/u/vIIQ9XAq8RAANq+vTpeuGFF7R+/XqddtppWY+tq6vT4MGDtWPHDklSbW2tDh8+rH379iW1gJ2dnRo9enTa96ioqFBFRYV9vwAAwDWJwQ+QGAEHjmVZmjZtmp5//nmtWbNGQ4YMyfmavXv3avfu3aqrq5MkNTY2qry8XG1tbfFj2tvbtW3btowBEAAAhAcNYMDceeedWrZsmX7605+qsrIyfs5eJBJRv379dODAAc2dO1df+9rXVFdXp127dunuu+/WgAEDdOONN8aPnTJlimbOnKmTTz5Z1dXVmjVrloYNG6Yrr7zSy18PyFtsIwg7ggGgcATAgHnkkUckSWPGjEl6/IknntDkyZPVu3dvbd26VU899ZQ+/vhj1dXV6bLLLtOKFStUWVkZP/7BBx9Unz59NGHCBB06dEhXXHGFnnzySfXu3dvNXwcGcWrn7t1aSggEgAIRAAMm12Ub+/Xrp5deeinn+5xwwgl66KGH9NBDD9m1NAAAEBAEQBSF64ejUN1ixyHglR/8y7ckJV/7r/uz4/83yX+em4k7gaAoe/bs4TIwABACu3fvznk1CYQPARBFOXbsmLZv365zzjlHu3fv5jZCacSulcjnkx6fT3Z8PrnxGWWX6/OxLEv79+9XfX29evXioiCmYQSMovTq1UunnnqqJKmqqor/8M2Czyc7Pp/s+Hxy4zPKLtvnwz3dzUXkBwAAMAwBEAAAwDAEQBStoqJC99xzD7eIy4DPJzs+n+z4fHLjM8qOzwfZsAkEAADAMDSAAAAAhiEAAgAAGIYACAAAYBgCIAAAgGEIgCjK4sWLNWTIEJ1wwglqbGzUq6++6vWSPDF37lyVlZUlfdXW1saftyxLc+fOVX19vfr166cxY8borbfe8nDFzlu/fr2uu+461dfXq6ysTKtWrUp6Pp/PpLu7W9OnT9eAAQPUv39/XX/99dqzZ4+Lv4Vzcn0+kydP7vE3NWrUqKRjwvr5tLa26vzzz1dlZaUGDhyocePGafv27UnHmP73k89nZPLfEPJHAETBVqxYoZaWFs2ZM0dbtmzRxRdfrObmZr333nteL80T5557rtrb2+NfW7dujT+3YMECLVy4UIsWLdKmTZtUW1urq666Svv37/dwxc46ePCghg8frkWLFqV9Pp/PpKWlRStXrtTy5cu1YcMGHThwQGPHjtXRo0fd+jUck+vzkaRrrrkm6W9q9erVSc+H9fNZt26d7rzzTr322mtqa2vTZ599pqamJh08eDB+jOl/P/l8RpK5f0MogAUU6IILLrDuuOOOpMe+/OUvW9///vc9WpF37rnnHmv48OFpnzt27JhVW1tr/fCHP4w/9umnn1qRSMT6h3/4B5dW6C1J1sqVK+Pf5/OZfPzxx1Z5ebm1fPny+DF/+MMfrF69elk///nPXVu7G1I/H8uyrEmTJlk33HBDxteY9Pl0dnZakqx169ZZlsXfTzqpn5Fl8TeE/NAAoiCHDx/W5s2b1dTUlPR4U1OTNm7c6NGqvLVjxw7V19dryJAh+uY3v6l33nlHkrRz5051dHQkfVYVFRW69NJLjf2s8vlMNm/erCNHjiQdU19fr4aGBmM+t7Vr12rgwIE666yzdNttt6mzszP+nEmfTzQalSRVV1dL4u8nndTPKIa/IeRCAERBPvzwQx09elQ1NTVJj9fU1Kijo8OjVXln5MiReuqpp/TSSy/pJz/5iTo6OjR69Gjt3bs3/nnwWX0un8+ko6NDffv21UknnZTxmDBrbm7WM888ozVr1uiBBx7Qpk2bdPnll6u7u1uSOZ+PZVmaMWOGLrroIjU0NEji7ydVus9I4m8I+enj9QIQTGVlZUnfW5bV4zETNDc3x/89bNgwXXjhhTrzzDO1ZMmS+EnXfFY9FfOZmPK5TZw4Mf7vhoYGjRgxQoMHD9aLL76o8ePHZ3xd2D6fadOm6c0339SGDRt6PMffz3GZPiP+hpAPGkAUZMCAAerdu3eP/5XY2dnZ43+Vm6h///4aNmyYduzYEd8NzGf1uXw+k9raWh0+fFj79u3LeIxJ6urqNHjwYO3YsUOSGZ/P9OnT9cILL+iVV17RaaedFn+cv5/PZfqM0jHxbwi5EQBRkL59+6qxsVFtbW1Jj7e1tWn06NEerco/uru79fbbb6uurk5DhgxRbW1t0md1+PBhrVu3ztjPKp/PpLGxUeXl5UnHtLe3a9u2bUZ+bnv37tXu3btVV1cnKdyfj2VZmjZtmp5//nmtWbNGQ4YMSXqev5/cn1E6Jv0NoQDe7D1BkC1fvtwqLy+3HnvsMet3v/ud1dLSYvXv39/atWuX10tz3cyZM621a9da77zzjvXaa69ZY8eOtSorK+OfxQ9/+EMrEolYzz//vLV161brpptusurq6qyuri6PV+6c/fv3W1u2bLG2bNliSbIWLlxobdmyxXr33Xcty8rvM7njjjus0047zXr55ZetN954w7r88sut4cOHW5999plXv5Ztsn0++/fvt2bOnGlt3LjR2rlzp/XKK69YF154oXXqqaca8fl8+9vftiKRiLV27Vqrvb09/vXJJ5/EjzH97yfXZ2T63xDyRwBEUR5++GFr8ODBVt++fa3zzjsv6RIEJpk4caJVV1dnlZeXW/X19db48eOtt956K/78sWPHrHvuuceqra21KioqrEsuucTaunWrhyt23iuvvGJJ6vE1adIky7Ly+0wOHTpkTZs2zaqurrb69etnjR071nrvvfc8+G3sl+3z+eSTT6ympibrlFNOscrLy63TTz/dmjRpUo/fPayfT7rPRZL1xBNPxI8x/e8n12dk+t8Q8ldmWZblXt8IAAAAr3EOIAAAgGEIgAAAAIYhAAIAABiGAAgAAGAYAiAAAIBhCIAAAACGIQACAAAYhgAIAABgGAIgAACAYQiAAAAAhiEAAgAAGIYACAAAYBgCIAAAgGEIgAAAAIYhAAIAABiGAAgAAGAYAiAAAIBhCIAAAACGIQACAAAYhgAIAABgGAIgAACAYQiAAAAAhiEAAgAAGIYACAAAYBgCIAAAgGEIgAAAAIYhAAIAABiGAAgAAGAYAiAAAIBhCIAAAACGIQACAAAY5v8B+/e8XXts4T4AAAAASUVORK5CYII=\"></img>\n",
       "</td>\n",
       "<td style=\"text-align: center; vertical-align: top;\">\n",
       "\n",
       "<table>\n",
       "<tr><td>shape</td><td>(256,&nbsp;256)</td></tr>\n",
       "<tr><td>dtype</td><td>int32</td></tr>\n",
       "<tr><td>size</td><td>256.0 kB</td></tr>\n",
       "<tr><td>min</td><td>0</td></tr><tr><td>max</td><td>56</td></tr>\n",
       "</table>\n",
       "\n",
       "</td>\n",
       "</tr>\n",
       "</table>"
      ],
      "text/plain": [
       "StackViewNDArray([[ 6,  6,  6, ...,  0,  0,  0],\n",
       "                  [ 6,  6,  6, ...,  0,  0,  0],\n",
       "                  [ 6,  6,  6, ...,  0,  3,  3],\n",
       "                  ...,\n",
       "                  [ 0,  0,  0, ..., 55, 55, 55],\n",
       "                  [ 0,  0,  0, ..., 55, 55, 55],\n",
       "                  [ 0,  0,  0, ..., 55, 55, 55]])"
      ]
     },
     "metadata": {},
     "output_type": "display_data"
    },
    {
     "data": {
      "text/plain": [
       "'The image segmented_data/membrane2d.tif is shown above.'"
      ]
     },
     "execution_count": 11,
     "metadata": {},
     "output_type": "execute_result"
    }
   ],
   "source": [
    "agent.run(\"Please show the segmented 'data/membrane2d.tif' image.\")"
   ]
  },
  {
   "cell_type": "markdown",
   "id": "b48dd0a0-f41c-4804-88b6-35ad766455aa",
   "metadata": {},
   "source": [
    "The segmentation does not look like a cell-segmentation. Thus, we should ask more specifically."
   ]
  },
  {
   "cell_type": "code",
   "execution_count": 12,
   "id": "f0303b77-899a-4e8c-9d6e-f1e5136ce636",
   "metadata": {
    "tags": []
   },
   "outputs": [
    {
     "name": "stdout",
     "output_type": "stream",
     "text": [
      "segmenting (Local-minima-seeded watershed) data/membrane2d.tif\n"
     ]
    },
    {
     "data": {
      "text/plain": [
       "'The segmented image has been stored as segmented_data/membrane2d.tif'"
      ]
     },
     "execution_count": 12,
     "metadata": {},
     "output_type": "execute_result"
    }
   ],
   "source": [
    "agent.run(\"Please segment the image 'data/membrane2d.tif' again and this time, segment the dark cells surrounded by bright membranes. Also show the result of the segmentation.\")"
   ]
  },
  {
   "cell_type": "markdown",
   "id": "497b2640-050a-4aef-9ab0-d5fe8fb04925",
   "metadata": {},
   "source": [
    "We can also ask the agent which algorithm it chose and why it chose this tool."
   ]
  },
  {
   "cell_type": "code",
   "execution_count": 13,
   "id": "4b5c4ca0-e169-412a-85eb-46b9646750b6",
   "metadata": {
    "tags": []
   },
   "outputs": [
    {
     "data": {
      "text/plain": [
       "'segment_dark_objects'"
      ]
     },
     "execution_count": 13,
     "metadata": {},
     "output_type": "execute_result"
    }
   ],
   "source": [
    "agent.run(\"Which algorithm did you use this time?\")"
   ]
  },
  {
   "cell_type": "code",
   "execution_count": 14,
   "id": "e47b9578-a60f-4708-a501-9da81baa57e9",
   "metadata": {
    "tags": []
   },
   "outputs": [
    {
     "data": {
      "text/plain": [
       "\"I used the 'segment_dark_objects' algorithm to segment dark objects with bright borders in the image 'data/membrane2d.tif'.\""
      ]
     },
     "execution_count": 14,
     "metadata": {},
     "output_type": "execute_result"
    }
   ],
   "source": [
    "agent.run(\"Why did you use this algorithm?\")"
   ]
  },
  {
   "cell_type": "markdown",
   "id": "a1b93a57-f920-43c7-ae01-60dea0a09af1",
   "metadata": {},
   "source": [
    "Note: The language model cannot see the image. Its tool-selection depends on information you provided and information it acquired during the chat."
   ]
  },
  {
   "cell_type": "markdown",
   "id": "3ffa09b1-20fd-41c4-8ac1-72e734c2a1a3",
   "metadata": {},
   "source": [
    "## Exercise\n",
    "Copy the image file \"membrane2d.tif\" and name it \"image.tif\". Run the procedure above again. Which influence does the filename have on results?"
   ]
  },
  {
   "cell_type": "code",
   "execution_count": null,
   "id": "9c411d81-7878-449b-a616-e50694fecd91",
   "metadata": {},
   "outputs": [],
   "source": []
  }
 ],
 "metadata": {
  "kernelspec": {
   "display_name": "Python 3 (ipykernel)",
   "language": "python",
   "name": "python3"
  },
  "language_info": {
   "codemirror_mode": {
    "name": "ipython",
    "version": 3
   },
   "file_extension": ".py",
   "mimetype": "text/x-python",
   "name": "python",
   "nbconvert_exporter": "python",
   "pygments_lexer": "ipython3",
   "version": "3.9.19"
  }
 },
 "nbformat": 4,
 "nbformat_minor": 5
}
