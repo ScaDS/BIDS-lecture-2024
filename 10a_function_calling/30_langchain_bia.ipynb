{
 "cells": [
  {
   "cell_type": "markdown",
   "id": "b97b3b00-8ff4-4e1b-b7c7-709f87aabc37",
   "metadata": {},
   "source": [
    "## Prompting bio-image analysis tasks using LangChain\n",
    "In this notebook we demonstrate how to prompt for executing bio-image analysis tasks using chatGPT and [LangChain](https://github.com/hwchase17/langchain). "
   ]
  },
  {
   "cell_type": "code",
   "execution_count": 1,
   "id": "f4ae3a80-b6ea-4409-95b7-caecd4e4211c",
   "metadata": {},
   "outputs": [],
   "source": [
    "from langchain.memory import ConversationBufferMemory\n",
    "from langchain.chat_models import ChatOpenAI\n",
    "from langchain.agents import initialize_agent\n",
    "from langchain.agents import AgentType\n",
    "from langchain.tools import tool\n",
    "\n",
    "from skimage.io import imread\n",
    "from napari_segment_blobs_and_things_with_membranes import voronoi_otsu_labeling\n",
    "\n",
    "import stackview"
   ]
  },
  {
   "cell_type": "markdown",
   "id": "6b78c8e5-58d1-4750-b659-e639a2b99d2f",
   "metadata": {},
   "source": [
    "For accomplishing this, we need an image storage. To keep it simple, we use a dictionary."
   ]
  },
  {
   "cell_type": "code",
   "execution_count": 2,
   "id": "8f8158b6-5a36-4cad-a28f-42cd375a0d4f",
   "metadata": {
    "tags": []
   },
   "outputs": [],
   "source": [
    "image_storage = {}"
   ]
  },
  {
   "cell_type": "markdown",
   "id": "a68ae717-2f4d-4327-b7f1-a4cf13e874d3",
   "metadata": {},
   "source": [
    "To demonstrate bio-image analysis using English language, we define common bio-image analysis functions for loading images, segmenting and counting objects and showing results."
   ]
  },
  {
   "cell_type": "code",
   "execution_count": 3,
   "id": "a9a8ad4d-7328-465c-8887-cf3fde3d42f1",
   "metadata": {
    "tags": []
   },
   "outputs": [],
   "source": [
    "tools = []"
   ]
  },
  {
   "cell_type": "code",
   "execution_count": 4,
   "id": "bc5b05a7-8ef6-458f-acbf-1c79e26cf9fb",
   "metadata": {
    "tags": []
   },
   "outputs": [],
   "source": [
    "@tools.append\n",
    "@tool\n",
    "def load_image(filename:str):\n",
    "    \"\"\"Useful for loading and image file and storing it.\"\"\"\n",
    "    print(\"loading\", filename)\n",
    "    image = imread(filename)\n",
    "    image_storage[filename] = image\n",
    "    return \"The image is now stored as \" + filename"
   ]
  },
  {
   "cell_type": "code",
   "execution_count": 5,
   "id": "993a17aa-57b2-4e72-b546-0ec7199c40c6",
   "metadata": {
    "tags": []
   },
   "outputs": [],
   "source": [
    "@tools.append\n",
    "@tool\n",
    "def segment_bright_objects(image_name):\n",
    "    \"\"\"Useful for segmenting bright objects in an image that has been loaded and stored before.\"\"\"\n",
    "    print(\"segmenting\", image_name)\n",
    "    \n",
    "    image = image_storage[image_name]\n",
    "    label_image = voronoi_otsu_labeling(image, spot_sigma=4)\n",
    "    \n",
    "    label_image_name = \"segmented_\" + image_name\n",
    "    image_storage[label_image_name] = label_image\n",
    "    \n",
    "    return \"The segmented image has been stored as \" + label_image_name"
   ]
  },
  {
   "cell_type": "code",
   "execution_count": 6,
   "id": "a11fe914-4162-4ca3-b067-e5278711e3f3",
   "metadata": {
    "tags": []
   },
   "outputs": [],
   "source": [
    "@tools.append\n",
    "@tool\n",
    "def show_image(image_name):\n",
    "    \"\"\"Useful for showing an image that has been loaded and stored before.\"\"\"\n",
    "    print(\"showing\", image_name)\n",
    "    \n",
    "    image = image_storage[image_name]\n",
    "    display(stackview.insight(image))\n",
    "    \n",
    "    return \"The image \" + image_name + \" is shown above.\""
   ]
  },
  {
   "cell_type": "code",
   "execution_count": 7,
   "id": "877a4c52-cea0-4a18-b1f4-7a88709713bd",
   "metadata": {
    "tags": []
   },
   "outputs": [],
   "source": [
    "@tools.append\n",
    "@tool\n",
    "def count_objects(image_name):\n",
    "    \"\"\"Useful for counting objects in a segmented image that has been loaded and stored before.\"\"\"\n",
    "    label_image = image_storage[image_name]\n",
    "    \n",
    "    num_labels = label_image.max()\n",
    "    print(\"counting labels in \", image_name, \":\", num_labels)\n",
    "\n",
    "    return f\"The label image {image_name} contains {num_labels} labels.\""
   ]
  },
  {
   "cell_type": "markdown",
   "id": "c0524eb1-7633-45e7-982b-1c2cc5af0b16",
   "metadata": {},
   "source": [
    "We create some memory and a large language model based on OpenAI's chatGPT."
   ]
  },
  {
   "cell_type": "code",
   "execution_count": 8,
   "id": "5d032bf0-49d1-42d4-9654-394a9e660996",
   "metadata": {},
   "outputs": [
    {
     "name": "stderr",
     "output_type": "stream",
     "text": [
      "C:\\Users\\haase\\mambaforge\\envs\\tea3\\lib\\site-packages\\langchain_core\\_api\\deprecation.py:119: LangChainDeprecationWarning: The class `ChatOpenAI` was deprecated in LangChain 0.0.10 and will be removed in 0.2.0. An updated version of the class exists in the langchain-openai package and should be used instead. To use it run `pip install -U langchain-openai` and import as `from langchain_openai import ChatOpenAI`.\n",
      "  warn_deprecated(\n"
     ]
    }
   ],
   "source": [
    "memory = ConversationBufferMemory(memory_key=\"chat_history\", return_messages=True)\n",
    "llm=ChatOpenAI(temperature=0)"
   ]
  },
  {
   "cell_type": "markdown",
   "id": "7bda4152-8cd8-4257-8e7a-e31fca49ffad",
   "metadata": {
    "tags": []
   },
   "source": [
    "Given the list of tools, the large language model and the memory, we can create an agent."
   ]
  },
  {
   "cell_type": "code",
   "execution_count": 9,
   "id": "28afdf8e-87f2-44a7-9f8d-ef188e0f13b5",
   "metadata": {},
   "outputs": [
    {
     "name": "stderr",
     "output_type": "stream",
     "text": [
      "C:\\Users\\haase\\mambaforge\\envs\\tea3\\lib\\site-packages\\langchain_core\\_api\\deprecation.py:119: LangChainDeprecationWarning: The function `initialize_agent` was deprecated in LangChain 0.1.0 and will be removed in 0.3.0. Use Use new agent constructor methods like create_react_agent, create_json_agent, create_structured_chat_agent, etc. instead.\n",
      "  warn_deprecated(\n"
     ]
    }
   ],
   "source": [
    "agent = initialize_agent(\n",
    "    tools, \n",
    "    llm, \n",
    "    agent=AgentType.CHAT_CONVERSATIONAL_REACT_DESCRIPTION, \n",
    "    memory=memory\n",
    ")"
   ]
  },
  {
   "cell_type": "markdown",
   "id": "23e3065d-8d55-46dc-b160-ff4349ee3beb",
   "metadata": {
    "tags": []
   },
   "source": [
    "This agent can then respond to prompts."
   ]
  },
  {
   "cell_type": "code",
   "execution_count": 10,
   "id": "5bf8d165-de48-4052-8121-d0bedac8a3e2",
   "metadata": {},
   "outputs": [
    {
     "name": "stderr",
     "output_type": "stream",
     "text": [
      "C:\\Users\\haase\\mambaforge\\envs\\tea3\\lib\\site-packages\\langchain_core\\_api\\deprecation.py:119: LangChainDeprecationWarning: The method `Chain.run` was deprecated in langchain 0.1.0 and will be removed in 0.3.0. Use invoke instead.\n",
      "  warn_deprecated(\n"
     ]
    },
    {
     "name": "stdout",
     "output_type": "stream",
     "text": [
      "loading data/blobs.tif\n"
     ]
    },
    {
     "data": {
      "text/plain": [
       "'The image data/blobs.tif has been loaded and stored.'"
      ]
     },
     "execution_count": 10,
     "metadata": {},
     "output_type": "execute_result"
    }
   ],
   "source": [
    "agent.run(\"Please load the image data/blobs.tif and show it.\")"
   ]
  },
  {
   "cell_type": "code",
   "execution_count": 11,
   "id": "3a78de42-7960-43f0-a62b-98106e57e75a",
   "metadata": {},
   "outputs": [
    {
     "name": "stdout",
     "output_type": "stream",
     "text": [
      "segmenting data/blobs.tif\n"
     ]
    },
    {
     "data": {
      "text/plain": [
       "'The segmented image has been stored as segmented_data/blobs.tif'"
      ]
     },
     "execution_count": 11,
     "metadata": {},
     "output_type": "execute_result"
    }
   ],
   "source": [
    "agent.run(\"Please segment the image data/blobs.tif .\")"
   ]
  },
  {
   "cell_type": "code",
   "execution_count": 12,
   "id": "ae00622c-0d17-4d73-adfc-3a0622024ea4",
   "metadata": {
    "tags": []
   },
   "outputs": [
    {
     "name": "stdout",
     "output_type": "stream",
     "text": [
      "showing segmented_data/blobs.tif\n"
     ]
    },
    {
     "data": {
      "text/html": [
       "<table>\n",
       "<tr>\n",
       "<td>\n",
       "<img src=\"data:image/png;base64,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\"></img>\n",
       "</td>\n",
       "<td style=\"text-align: center; vertical-align: top;\">\n",
       "\n",
       "<table>\n",
       "<tr><td>shape</td><td>(254,&nbsp;256)</td></tr>\n",
       "<tr><td>dtype</td><td>int32</td></tr>\n",
       "<tr><td>size</td><td>254.0 kB</td></tr>\n",
       "<tr><td>min</td><td>0</td></tr><tr><td>max</td><td>64</td></tr>\n",
       "</table>\n",
       "\n",
       "</td>\n",
       "</tr>\n",
       "</table>"
      ],
      "text/plain": [
       "StackViewNDArray([[0, 0, 0, ..., 4, 4, 4],\n",
       "                  [0, 0, 0, ..., 4, 4, 4],\n",
       "                  [0, 0, 0, ..., 4, 4, 4],\n",
       "                  ...,\n",
       "                  [0, 0, 0, ..., 0, 0, 0],\n",
       "                  [0, 0, 0, ..., 0, 0, 0],\n",
       "                  [0, 0, 0, ..., 0, 0, 0]])"
      ]
     },
     "metadata": {},
     "output_type": "display_data"
    },
    {
     "data": {
      "text/plain": [
       "'The image segmented_data/blobs.tif is shown above.'"
      ]
     },
     "execution_count": 12,
     "metadata": {},
     "output_type": "execute_result"
    }
   ],
   "source": [
    "agent.run(\"Please show the segmented data/blobs.tif image.\")"
   ]
  },
  {
   "cell_type": "code",
   "execution_count": 13,
   "id": "a24ce242-2e1d-4f62-9dc4-c86fc5a7cd07",
   "metadata": {
    "tags": []
   },
   "outputs": [
    {
     "name": "stdout",
     "output_type": "stream",
     "text": [
      "counting labels in  segmented_data/blobs.tif : 64\n"
     ]
    },
    {
     "data": {
      "text/plain": [
       "'The segmented data/blobs.tif image contains 64 objects.'"
      ]
     },
     "execution_count": 13,
     "metadata": {},
     "output_type": "execute_result"
    }
   ],
   "source": [
    "agent.run(\"How many objects are there in the segmented data/blobs.tif image?\")"
   ]
  },
  {
   "cell_type": "markdown",
   "id": "d7fb9cc5-d363-4c00-adb2-c9ad6c034329",
   "metadata": {},
   "source": [
    "## Chaining operations\n",
    "We can also chain these operations in a single sentence and the `agent` will figure out on it's own how to do this."
   ]
  },
  {
   "cell_type": "code",
   "execution_count": 14,
   "id": "58777103-f702-4e10-a01d-a98dc367d760",
   "metadata": {
    "tags": []
   },
   "outputs": [],
   "source": [
    "# empty memory and start from scratch\n",
    "image_memory = {}"
   ]
  },
  {
   "cell_type": "code",
   "execution_count": 15,
   "id": "13826a98-69ec-4772-b74e-308b29752e41",
   "metadata": {
    "tags": []
   },
   "outputs": [
    {
     "data": {
      "text/plain": [
       "'The image data/blobs.tif has been loaded, bright objects have been segmented, there are 64 objects in the segmented image, and the segmentation result has been shown.'"
      ]
     },
     "execution_count": 15,
     "metadata": {},
     "output_type": "execute_result"
    }
   ],
   "source": [
    "agent.run(\"\"\"\n",
    "Please load the image data/blobs.tif, \n",
    "segment bright objects in it, \n",
    "count them and \n",
    "show the segmentation result.\n",
    "\"\"\")"
   ]
  },
  {
   "cell_type": "code",
   "execution_count": 16,
   "id": "3285fc66-aa9f-481d-86ef-816378314887",
   "metadata": {},
   "outputs": [
    {
     "data": {
      "text/plain": [
       "'There are 64 objects in the segmented image.'"
      ]
     },
     "execution_count": 16,
     "metadata": {},
     "output_type": "execute_result"
    }
   ],
   "source": [
    "agent.run(\"How many objects were there?\")"
   ]
  },
  {
   "cell_type": "markdown",
   "id": "993bd453-e4d6-423b-93af-fc6dd6af1487",
   "metadata": {},
   "source": [
    "## Exercise\n",
    "Add another function that allows to extract quantitative parameters from the segmented objects, e.g. area, and measures the average area of objects."
   ]
  },
  {
   "cell_type": "code",
   "execution_count": null,
   "id": "370dbd54-e8a6-450f-8691-a9423c0ede45",
   "metadata": {},
   "outputs": [],
   "source": []
  }
 ],
 "metadata": {
  "kernelspec": {
   "display_name": "Python 3 (ipykernel)",
   "language": "python",
   "name": "python3"
  },
  "language_info": {
   "codemirror_mode": {
    "name": "ipython",
    "version": 3
   },
   "file_extension": ".py",
   "mimetype": "text/x-python",
   "name": "python",
   "nbconvert_exporter": "python",
   "pygments_lexer": "ipython3",
   "version": "3.9.19"
  }
 },
 "nbformat": 4,
 "nbformat_minor": 5
}
