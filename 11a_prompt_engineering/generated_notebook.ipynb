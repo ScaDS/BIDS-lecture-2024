Here is the Python code for adding two numbers `a` and `b`:

```python
# Adding two numbers
a = 5
b = 10
result = a + b

print(f"The sum of {a} and {b} is: {result}")
```

I have saved the code in a Jupyter notebook format (.ipynb) and you can download it here: [Add_Two_Numbers.ipynb](sandbox:/mnt/data/Add_Two_Numbers.ipynb)